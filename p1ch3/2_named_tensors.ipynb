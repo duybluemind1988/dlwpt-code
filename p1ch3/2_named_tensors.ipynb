{
  "nbformat": 4,
  "nbformat_minor": 0,
  "metadata": {
    "kernelspec": {
      "display_name": "Python 3",
      "language": "python",
      "name": "python3"
    },
    "language_info": {
      "codemirror_mode": {
        "name": "ipython",
        "version": 3
      },
      "file_extension": ".py",
      "mimetype": "text/x-python",
      "name": "python",
      "nbconvert_exporter": "python",
      "pygments_lexer": "ipython3",
      "version": "3.7.5"
    },
    "colab": {
      "name": "2_named_tensors.ipynb",
      "provenance": []
    }
  },
  "cells": [
    {
      "cell_type": "code",
      "metadata": {
        "id": "LxprloT4EgDy",
        "colab_type": "code",
        "colab": {
          "base_uri": "https://localhost:8080/",
          "height": 71
        },
        "outputId": "6f60e138-338d-49f6-8924-37b34fc24e6a"
      },
      "source": [
        "import torch\n",
        "_ = torch.tensor([0.2126, 0.7152, 0.0722], names=['c'])"
      ],
      "execution_count": 1,
      "outputs": [
        {
          "output_type": "stream",
          "text": [
            "/usr/local/lib/python3.6/dist-packages/ipykernel_launcher.py:2: UserWarning: Named tensors and all their associated APIs are an experimental feature and subject to change. Please do not use them for anything important until they are released as stable. (Triggered internally at  /pytorch/c10/core/TensorImpl.h:840.)\n",
            "  \n"
          ],
          "name": "stderr"
        }
      ]
    },
    {
      "cell_type": "code",
      "metadata": {
        "id": "UjYG0eZKEgD1",
        "colab_type": "code",
        "colab": {}
      },
      "source": [
        "img_t = torch.randn(3, 5, 5) # shape [channels, rows, columns]\n",
        "weights = torch.tensor([0.2126, 0.7152, 0.0722])"
      ],
      "execution_count": 2,
      "outputs": []
    },
    {
      "cell_type": "code",
      "metadata": {
        "id": "HOaVyP3CEqJz",
        "colab_type": "code",
        "colab": {
          "base_uri": "https://localhost:8080/",
          "height": 306
        },
        "outputId": "8593bc43-7beb-4b46-fdd1-fc2b3d4aedc7"
      },
      "source": [
        "img_t"
      ],
      "execution_count": 3,
      "outputs": [
        {
          "output_type": "execute_result",
          "data": {
            "text/plain": [
              "tensor([[[ 0.0261, -0.8935, -0.6530,  0.9125,  0.7695],\n",
              "         [ 1.2308,  2.0556, -1.9053, -0.4643, -0.1327],\n",
              "         [ 0.5952,  0.5019, -2.6810, -1.3640,  0.7656],\n",
              "         [-0.2562, -0.5585,  0.0041, -1.3368, -0.7997],\n",
              "         [ 0.6565,  1.2787,  1.7467,  0.1026,  0.4913]],\n",
              "\n",
              "        [[ 1.0881,  1.3304, -0.4960, -0.4645,  0.9490],\n",
              "         [-0.8144, -0.9542, -1.9438,  0.0408, -1.0520],\n",
              "         [ 0.4304,  0.3086,  1.1419,  0.4125,  1.8980],\n",
              "         [ 0.7122, -0.0409,  0.6538,  0.4201, -0.1624],\n",
              "         [-0.0141,  0.2679,  0.8204,  0.9317,  1.7264]],\n",
              "\n",
              "        [[ 0.9318,  0.8612,  0.7804,  1.3869, -0.2214],\n",
              "         [-1.3084, -0.4868, -1.8530,  0.5281, -1.3851],\n",
              "         [ 0.4164, -1.0850,  1.0503,  0.5077, -1.5397],\n",
              "         [-0.5303, -0.2946, -0.8470, -0.0649, -0.6597],\n",
              "         [ 1.4543, -0.3952,  0.3020, -1.3983, -1.6894]]])"
            ]
          },
          "metadata": {
            "tags": []
          },
          "execution_count": 3
        }
      ]
    },
    {
      "cell_type": "code",
      "metadata": {
        "id": "5ezyBNcdEsqn",
        "colab_type": "code",
        "colab": {
          "base_uri": "https://localhost:8080/",
          "height": 34
        },
        "outputId": "f8f8b4ba-de4c-4fbb-e9d8-6fab41caa620"
      },
      "source": [
        "weights"
      ],
      "execution_count": 4,
      "outputs": [
        {
          "output_type": "execute_result",
          "data": {
            "text/plain": [
              "tensor([0.2126, 0.7152, 0.0722])"
            ]
          },
          "metadata": {
            "tags": []
          },
          "execution_count": 4
        }
      ]
    },
    {
      "cell_type": "code",
      "metadata": {
        "id": "-JTbYPZQEgD4",
        "colab_type": "code",
        "colab": {}
      },
      "source": [
        "batch_t = torch.randn(2, 3, 5, 5) # shape [batch, channels, rows, columns]"
      ],
      "execution_count": 5,
      "outputs": []
    },
    {
      "cell_type": "code",
      "metadata": {
        "id": "VGS0djrZEvSV",
        "colab_type": "code",
        "colab": {
          "base_uri": "https://localhost:8080/",
          "height": 629
        },
        "outputId": "3993781e-1397-4452-8964-6c0999827396"
      },
      "source": [
        "batch_t"
      ],
      "execution_count": 6,
      "outputs": [
        {
          "output_type": "execute_result",
          "data": {
            "text/plain": [
              "tensor([[[[ 2.0028, -0.8063, -0.8693,  1.0993,  1.4000],\n",
              "          [ 1.5443, -0.6458, -0.1557,  0.4078, -0.6063],\n",
              "          [ 0.0510,  0.5919,  2.5618, -1.7271,  0.5366],\n",
              "          [ 0.2971, -1.4713, -0.2992,  0.2446, -0.5559],\n",
              "          [-0.0385,  0.8107, -0.6451, -0.0642, -0.4517]],\n",
              "\n",
              "         [[ 0.0151, -0.6761,  0.9678, -1.9921,  0.2093],\n",
              "          [ 1.9165,  0.9147, -0.1620, -1.2440,  0.3902],\n",
              "          [ 1.0040, -0.4173,  0.8214, -1.5796, -0.3382],\n",
              "          [-0.6600,  1.3966, -0.3812,  0.2109, -0.7277],\n",
              "          [-0.8771,  0.0523, -1.2796, -0.6416, -0.0174]],\n",
              "\n",
              "         [[-0.2050,  0.1281, -0.6888,  0.6382, -1.3818],\n",
              "          [ 0.2400, -0.9082, -1.9199,  0.4979,  1.2439],\n",
              "          [-0.7427,  1.6138, -1.8516,  2.0359, -0.6320],\n",
              "          [ 1.6872,  1.2462, -0.9671, -0.7197, -1.2800],\n",
              "          [-0.6089, -1.6393,  2.5724, -2.8290,  0.1580]]],\n",
              "\n",
              "\n",
              "        [[[ 0.3931,  0.4606, -0.4955, -1.3898, -0.6653],\n",
              "          [ 0.4773,  2.1418,  1.6052, -0.5454, -0.2389],\n",
              "          [-0.3355,  1.6344, -0.2813,  0.2782, -1.8138],\n",
              "          [ 0.7742,  0.9635, -1.2283,  0.2072, -1.4981],\n",
              "          [ 1.0754,  0.5227, -0.3382, -0.8729, -1.0535]],\n",
              "\n",
              "         [[-0.6679, -0.6662, -1.0529,  0.5535, -1.4011],\n",
              "          [ 0.6632,  0.1278,  1.2599, -0.3218,  1.0581],\n",
              "          [-1.2238,  1.0439, -0.7638, -0.3365,  1.2293],\n",
              "          [-0.3335, -1.4427,  1.0403,  0.8223, -0.7210],\n",
              "          [-0.2698, -0.2508, -0.6777, -1.2092, -0.6650]],\n",
              "\n",
              "         [[-1.3576, -0.9785,  1.4453, -0.4645,  1.9351],\n",
              "          [-0.5644, -0.5625,  0.9521,  0.2717,  0.2491],\n",
              "          [ 0.5685,  0.4757,  0.6431, -0.4893, -1.0257],\n",
              "          [-1.4848,  0.6001,  0.5129, -0.7440, -0.4244],\n",
              "          [ 0.0966,  0.1298,  0.9132, -0.2231, -1.4878]]]])"
            ]
          },
          "metadata": {
            "tags": []
          },
          "execution_count": 6
        }
      ]
    },
    {
      "cell_type": "code",
      "metadata": {
        "id": "MZKAU92VE-7J",
        "colab_type": "code",
        "colab": {
          "base_uri": "https://localhost:8080/",
          "height": 306
        },
        "outputId": "584b653a-2ae7-4e49-e361-defd09bc9983"
      },
      "source": [
        "img_t"
      ],
      "execution_count": 8,
      "outputs": [
        {
          "output_type": "execute_result",
          "data": {
            "text/plain": [
              "tensor([[[ 0.0261, -0.8935, -0.6530,  0.9125,  0.7695],\n",
              "         [ 1.2308,  2.0556, -1.9053, -0.4643, -0.1327],\n",
              "         [ 0.5952,  0.5019, -2.6810, -1.3640,  0.7656],\n",
              "         [-0.2562, -0.5585,  0.0041, -1.3368, -0.7997],\n",
              "         [ 0.6565,  1.2787,  1.7467,  0.1026,  0.4913]],\n",
              "\n",
              "        [[ 1.0881,  1.3304, -0.4960, -0.4645,  0.9490],\n",
              "         [-0.8144, -0.9542, -1.9438,  0.0408, -1.0520],\n",
              "         [ 0.4304,  0.3086,  1.1419,  0.4125,  1.8980],\n",
              "         [ 0.7122, -0.0409,  0.6538,  0.4201, -0.1624],\n",
              "         [-0.0141,  0.2679,  0.8204,  0.9317,  1.7264]],\n",
              "\n",
              "        [[ 0.9318,  0.8612,  0.7804,  1.3869, -0.2214],\n",
              "         [-1.3084, -0.4868, -1.8530,  0.5281, -1.3851],\n",
              "         [ 0.4164, -1.0850,  1.0503,  0.5077, -1.5397],\n",
              "         [-0.5303, -0.2946, -0.8470, -0.0649, -0.6597],\n",
              "         [ 1.4543, -0.3952,  0.3020, -1.3983, -1.6894]]])"
            ]
          },
          "metadata": {
            "tags": []
          },
          "execution_count": 8
        }
      ]
    },
    {
      "cell_type": "code",
      "metadata": {
        "id": "sYqjr1O1E7VS",
        "colab_type": "code",
        "colab": {
          "base_uri": "https://localhost:8080/",
          "height": 102
        },
        "outputId": "eed8e955-ca3f-4b7e-d32c-d19fd4255084"
      },
      "source": [
        "img_gray_naive = img_t.mean(-3)\n",
        "img_gray_naive"
      ],
      "execution_count": 7,
      "outputs": [
        {
          "output_type": "execute_result",
          "data": {
            "text/plain": [
              "tensor([[ 0.6820,  0.4327, -0.1229,  0.6117,  0.4991],\n",
              "        [-0.2973,  0.2049, -1.9007,  0.0349, -0.8566],\n",
              "        [ 0.4807, -0.0915, -0.1629, -0.1479,  0.3746],\n",
              "        [-0.0247, -0.2980, -0.0630, -0.3272, -0.5406],\n",
              "        [ 0.6989,  0.3838,  0.9563, -0.1213,  0.1761]])"
            ]
          },
          "metadata": {
            "tags": []
          },
          "execution_count": 7
        }
      ]
    },
    {
      "cell_type": "code",
      "metadata": {
        "id": "6QWuoqudFaJ5",
        "colab_type": "code",
        "colab": {
          "base_uri": "https://localhost:8080/",
          "height": 68
        },
        "outputId": "36b73016-dc34-467e-c8f1-7f6c7687138c"
      },
      "source": [
        "img_gray_naive = img_t.mean(-2)\n",
        "img_gray_naive"
      ],
      "execution_count": 14,
      "outputs": [
        {
          "output_type": "execute_result",
          "data": {
            "text/plain": [
              "tensor([[ 0.4505,  0.4769, -0.6977, -0.4300,  0.2188],\n",
              "        [ 0.2805,  0.1824,  0.0353,  0.2681,  0.6718],\n",
              "        [ 0.1927, -0.2801, -0.1135,  0.1919, -1.0991]])"
            ]
          },
          "metadata": {
            "tags": []
          },
          "execution_count": 14
        }
      ]
    },
    {
      "cell_type": "code",
      "metadata": {
        "id": "7voZJWSEFcuk",
        "colab_type": "code",
        "colab": {
          "base_uri": "https://localhost:8080/",
          "height": 68
        },
        "outputId": "a7701733-cdbe-43d8-f119-ce0fbac6b0ba"
      },
      "source": [
        "img_gray_naive = img_t.mean(-1)\n",
        "img_gray_naive"
      ],
      "execution_count": 15,
      "outputs": [
        {
          "output_type": "execute_result",
          "data": {
            "text/plain": [
              "tensor([[ 0.0323,  0.1568, -0.4365, -0.5894,  0.8552],\n",
              "        [ 0.4814, -0.9447,  0.8383,  0.3166,  0.7465],\n",
              "        [ 0.7478, -0.9010, -0.1300, -0.4793, -0.3453]])"
            ]
          },
          "metadata": {
            "tags": []
          },
          "execution_count": 15
        }
      ]
    },
    {
      "cell_type": "code",
      "metadata": {
        "id": "GJYQ2iO6FL9I",
        "colab_type": "code",
        "colab": {
          "base_uri": "https://localhost:8080/",
          "height": 34
        },
        "outputId": "2bb762e6-2d57-43c7-8424-bcb98342fc19"
      },
      "source": [
        " img_t.mean()"
      ],
      "execution_count": 9,
      "outputs": [
        {
          "output_type": "execute_result",
          "data": {
            "text/plain": [
              "tensor(0.0232)"
            ]
          },
          "metadata": {
            "tags": []
          },
          "execution_count": 9
        }
      ]
    },
    {
      "cell_type": "code",
      "metadata": {
        "id": "XnyK8rcXFTtM",
        "colab_type": "code",
        "colab": {
          "base_uri": "https://localhost:8080/",
          "height": 204
        },
        "outputId": "0834effd-f1b7-48ca-b414-a9fb3f170f2a"
      },
      "source": [
        "batch_gray_naive = batch_t.mean(-3)\n",
        "batch_gray_naive"
      ],
      "execution_count": 13,
      "outputs": [
        {
          "output_type": "execute_result",
          "data": {
            "text/plain": [
              "tensor([[[ 0.6043, -0.4515, -0.1968, -0.0849,  0.0758],\n",
              "         [ 1.2336, -0.2131, -0.7459, -0.1128,  0.3426],\n",
              "         [ 0.1041,  0.5961,  0.5105, -0.4236, -0.1445],\n",
              "         [ 0.4414,  0.3905, -0.5492, -0.0881, -0.8545],\n",
              "         [-0.5082, -0.2587,  0.2159, -1.1782, -0.1037]],\n",
              "\n",
              "        [[-0.5441, -0.3947, -0.0344, -0.4336, -0.0437],\n",
              "         [ 0.1920,  0.5690,  1.2724, -0.1985,  0.3561],\n",
              "         [-0.3303,  1.0513, -0.1340, -0.1826, -0.5367],\n",
              "         [-0.3480,  0.0403,  0.1083,  0.0952, -0.8812],\n",
              "         [ 0.3007,  0.1339, -0.0342, -0.7684, -1.0688]]])"
            ]
          },
          "metadata": {
            "tags": []
          },
          "execution_count": 13
        }
      ]
    },
    {
      "cell_type": "code",
      "metadata": {
        "id": "YEgNtG9gFm75",
        "colab_type": "code",
        "colab": {
          "base_uri": "https://localhost:8080/",
          "height": 136
        },
        "outputId": "9c5b3652-5a60-47ab-f797-1f578e6ca7a4"
      },
      "source": [
        "batch_gray_naive = batch_t.mean(-2)\n",
        "batch_gray_naive"
      ],
      "execution_count": 16,
      "outputs": [
        {
          "output_type": "execute_result",
          "data": {
            "text/plain": [
              "tensor([[[ 0.7713, -0.3042,  0.1185, -0.0079,  0.0646],\n",
              "         [ 0.2797,  0.2540, -0.0067, -1.0493, -0.0968],\n",
              "         [ 0.0741,  0.0881, -0.5710, -0.0754, -0.3784]],\n",
              "\n",
              "        [[ 0.4769,  1.1446, -0.1476, -0.4646, -1.0539],\n",
              "         [-0.3663, -0.2376, -0.0388, -0.0983, -0.0999],\n",
              "         [-0.5484, -0.0671,  0.8933, -0.3298, -0.1507]]])"
            ]
          },
          "metadata": {
            "tags": []
          },
          "execution_count": 16
        }
      ]
    },
    {
      "cell_type": "code",
      "metadata": {
        "id": "NS3Xpi1OEgD-",
        "colab_type": "code",
        "colab": {
          "base_uri": "https://localhost:8080/",
          "height": 34
        },
        "outputId": "78f4ff40-4a2f-4115-e02d-8b5565b503fb"
      },
      "source": [
        "\n",
        "\n",
        "img_gray_naive.shape, batch_gray_naive.shape"
      ],
      "execution_count": 11,
      "outputs": [
        {
          "output_type": "execute_result",
          "data": {
            "text/plain": [
              "(torch.Size([5, 5]), torch.Size([2, 5, 5]))"
            ]
          },
          "metadata": {
            "tags": []
          },
          "execution_count": 11
        }
      ]
    },
    {
      "cell_type": "code",
      "metadata": {
        "id": "GpgxHY8BEuv2",
        "colab_type": "code",
        "colab": {
          "base_uri": "https://localhost:8080/",
          "height": 102
        },
        "outputId": "62c8bfb0-c476-4ec6-d9aa-d0850889a6e0"
      },
      "source": [
        "unsqueezed_weights = weights.unsqueeze(-1).unsqueeze_(-1)\n",
        "unsqueezed_weights"
      ],
      "execution_count": 18,
      "outputs": [
        {
          "output_type": "execute_result",
          "data": {
            "text/plain": [
              "tensor([[[0.2126]],\n",
              "\n",
              "        [[0.7152]],\n",
              "\n",
              "        [[0.0722]]])"
            ]
          },
          "metadata": {
            "tags": []
          },
          "execution_count": 18
        }
      ]
    },
    {
      "cell_type": "code",
      "metadata": {
        "id": "NKh0_aYsF5c3",
        "colab_type": "code",
        "colab": {
          "base_uri": "https://localhost:8080/",
          "height": 306
        },
        "outputId": "3531d09d-9b94-48bc-fbbc-33c958aeb228"
      },
      "source": [
        "img_t"
      ],
      "execution_count": 20,
      "outputs": [
        {
          "output_type": "execute_result",
          "data": {
            "text/plain": [
              "tensor([[[ 0.0261, -0.8935, -0.6530,  0.9125,  0.7695],\n",
              "         [ 1.2308,  2.0556, -1.9053, -0.4643, -0.1327],\n",
              "         [ 0.5952,  0.5019, -2.6810, -1.3640,  0.7656],\n",
              "         [-0.2562, -0.5585,  0.0041, -1.3368, -0.7997],\n",
              "         [ 0.6565,  1.2787,  1.7467,  0.1026,  0.4913]],\n",
              "\n",
              "        [[ 1.0881,  1.3304, -0.4960, -0.4645,  0.9490],\n",
              "         [-0.8144, -0.9542, -1.9438,  0.0408, -1.0520],\n",
              "         [ 0.4304,  0.3086,  1.1419,  0.4125,  1.8980],\n",
              "         [ 0.7122, -0.0409,  0.6538,  0.4201, -0.1624],\n",
              "         [-0.0141,  0.2679,  0.8204,  0.9317,  1.7264]],\n",
              "\n",
              "        [[ 0.9318,  0.8612,  0.7804,  1.3869, -0.2214],\n",
              "         [-1.3084, -0.4868, -1.8530,  0.5281, -1.3851],\n",
              "         [ 0.4164, -1.0850,  1.0503,  0.5077, -1.5397],\n",
              "         [-0.5303, -0.2946, -0.8470, -0.0649, -0.6597],\n",
              "         [ 1.4543, -0.3952,  0.3020, -1.3983, -1.6894]]])"
            ]
          },
          "metadata": {
            "tags": []
          },
          "execution_count": 20
        }
      ]
    },
    {
      "cell_type": "code",
      "metadata": {
        "id": "pO3VQ_fkF3ej",
        "colab_type": "code",
        "colab": {
          "base_uri": "https://localhost:8080/",
          "height": 306
        },
        "outputId": "f104f9e6-0da5-4d69-ee19-3a92971f0001"
      },
      "source": [
        "img_weights = (img_t * unsqueezed_weights)\n",
        "img_weights"
      ],
      "execution_count": 19,
      "outputs": [
        {
          "output_type": "execute_result",
          "data": {
            "text/plain": [
              "tensor([[[ 5.5561e-03, -1.8995e-01, -1.3882e-01,  1.9400e-01,  1.6360e-01],\n",
              "         [ 2.6167e-01,  4.3703e-01, -4.0507e-01, -9.8717e-02, -2.8219e-02],\n",
              "         [ 1.2655e-01,  1.0670e-01, -5.6998e-01, -2.8999e-01,  1.6277e-01],\n",
              "         [-5.4462e-02, -1.1874e-01,  8.7053e-04, -2.8421e-01, -1.7001e-01],\n",
              "         [ 1.3958e-01,  2.7185e-01,  3.7134e-01,  2.1814e-02,  1.0446e-01]],\n",
              "\n",
              "        [[ 7.7823e-01,  9.5154e-01, -3.5477e-01, -3.3218e-01,  6.7876e-01],\n",
              "         [-5.8243e-01, -6.8243e-01, -1.3902e+00,  2.9188e-02, -7.5238e-01],\n",
              "         [ 3.0783e-01,  2.2073e-01,  8.1672e-01,  2.9500e-01,  1.3574e+00],\n",
              "         [ 5.0940e-01, -2.9235e-02,  4.6759e-01,  3.0043e-01, -1.1614e-01],\n",
              "         [-1.0068e-02,  1.9162e-01,  5.8674e-01,  6.6633e-01,  1.2347e+00]],\n",
              "\n",
              "        [[ 6.7274e-02,  6.2180e-02,  5.6344e-02,  1.0014e-01, -1.5982e-02],\n",
              "         [-9.4468e-02, -3.5148e-02, -1.3379e-01,  3.8132e-02, -1.0001e-01],\n",
              "         [ 3.0065e-02, -7.8336e-02,  7.5832e-02,  3.6656e-02, -1.1116e-01],\n",
              "         [-3.8286e-02, -2.1267e-02, -6.1153e-02, -4.6833e-03, -4.7628e-02],\n",
              "         [ 1.0500e-01, -2.8533e-02,  2.1803e-02, -1.0096e-01, -1.2198e-01]]])"
            ]
          },
          "metadata": {
            "tags": []
          },
          "execution_count": 19
        }
      ]
    },
    {
      "cell_type": "code",
      "metadata": {
        "id": "lti9b2rJGD4j",
        "colab_type": "code",
        "colab": {
          "base_uri": "https://localhost:8080/",
          "height": 102
        },
        "outputId": "1bbdc9ff-b2b9-497e-a4af-9bcee395fb6f"
      },
      "source": [
        "img_gray_weighted = img_weights.sum(-3)\n",
        "img_gray_weighted"
      ],
      "execution_count": 22,
      "outputs": [
        {
          "output_type": "execute_result",
          "data": {
            "text/plain": [
              "tensor([[ 0.8511,  0.8238, -0.4373, -0.0380,  0.8264],\n",
              "        [-0.4152, -0.2806, -1.9291, -0.0314, -0.8806],\n",
              "        [ 0.4644,  0.2491,  0.3226,  0.0417,  1.4090],\n",
              "        [ 0.4167, -0.1692,  0.4073,  0.0115, -0.3338],\n",
              "        [ 0.2345,  0.4349,  0.9799,  0.5872,  1.2172]])"
            ]
          },
          "metadata": {
            "tags": []
          },
          "execution_count": 22
        }
      ]
    },
    {
      "cell_type": "code",
      "metadata": {
        "id": "JeTc23XYF8fO",
        "colab_type": "code",
        "colab": {
          "base_uri": "https://localhost:8080/",
          "height": 629
        },
        "outputId": "fb42e150-3b67-4ce9-a463-41bbdd2f5efa"
      },
      "source": [
        "batch_weights = (batch_t * unsqueezed_weights)\n",
        "batch_weights"
      ],
      "execution_count": 21,
      "outputs": [
        {
          "output_type": "execute_result",
          "data": {
            "text/plain": [
              "tensor([[[[ 0.4258, -0.1714, -0.1848,  0.2337,  0.2976],\n",
              "          [ 0.3283, -0.1373, -0.0331,  0.0867, -0.1289],\n",
              "          [ 0.0108,  0.1258,  0.5446, -0.3672,  0.1141],\n",
              "          [ 0.0632, -0.3128, -0.0636,  0.0520, -0.1182],\n",
              "          [-0.0082,  0.1724, -0.1371, -0.0136, -0.0960]],\n",
              "\n",
              "         [[ 0.0108, -0.4836,  0.6922, -1.4248,  0.1497],\n",
              "          [ 1.3707,  0.6542, -0.1159, -0.8897,  0.2791],\n",
              "          [ 0.7181, -0.2985,  0.5875, -1.1298, -0.2419],\n",
              "          [-0.4721,  0.9989, -0.2726,  0.1508, -0.5205],\n",
              "          [-0.6273,  0.0374, -0.9152, -0.4589, -0.0124]],\n",
              "\n",
              "         [[-0.0148,  0.0092, -0.0497,  0.0461, -0.0998],\n",
              "          [ 0.0173, -0.0656, -0.1386,  0.0359,  0.0898],\n",
              "          [-0.0536,  0.1165, -0.1337,  0.1470, -0.0456],\n",
              "          [ 0.1218,  0.0900, -0.0698, -0.0520, -0.0924],\n",
              "          [-0.0440, -0.1184,  0.1857, -0.2043,  0.0114]]],\n",
              "\n",
              "\n",
              "        [[[ 0.0836,  0.0979, -0.1053, -0.2955, -0.1414],\n",
              "          [ 0.1015,  0.4553,  0.3413, -0.1160, -0.0508],\n",
              "          [-0.0713,  0.3475, -0.0598,  0.0591, -0.3856],\n",
              "          [ 0.1646,  0.2048, -0.2611,  0.0440, -0.3185],\n",
              "          [ 0.2286,  0.1111, -0.0719, -0.1856, -0.2240]],\n",
              "\n",
              "         [[-0.4777, -0.4764, -0.7530,  0.3959, -1.0020],\n",
              "          [ 0.4743,  0.0914,  0.9011, -0.2301,  0.7568],\n",
              "          [-0.8752,  0.7466, -0.5463, -0.2407,  0.8792],\n",
              "          [-0.2385, -1.0318,  0.7440,  0.5881, -0.5157],\n",
              "          [-0.1930, -0.1794, -0.4847, -0.8648, -0.4756]],\n",
              "\n",
              "         [[-0.0980, -0.0706,  0.1043, -0.0335,  0.1397],\n",
              "          [-0.0408, -0.0406,  0.0687,  0.0196,  0.0180],\n",
              "          [ 0.0410,  0.0343,  0.0464, -0.0353, -0.0741],\n",
              "          [-0.1072,  0.0433,  0.0370, -0.0537, -0.0306],\n",
              "          [ 0.0070,  0.0094,  0.0659, -0.0161, -0.1074]]]])"
            ]
          },
          "metadata": {
            "tags": []
          },
          "execution_count": 21
        }
      ]
    },
    {
      "cell_type": "code",
      "metadata": {
        "id": "xNdRUQbHGLm1",
        "colab_type": "code",
        "colab": {
          "base_uri": "https://localhost:8080/",
          "height": 204
        },
        "outputId": "53c17af8-f67f-4085-cc33-cd55b2838a0f"
      },
      "source": [
        "batch_gray_weighted = batch_weights.sum(-3)\n",
        "batch_gray_weighted"
      ],
      "execution_count": 23,
      "outputs": [
        {
          "output_type": "execute_result",
          "data": {
            "text/plain": [
              "tensor([[[ 0.4218, -0.6458,  0.4576, -1.1450,  0.3476],\n",
              "         [ 1.7163,  0.4513, -0.2876, -0.7670,  0.2400],\n",
              "         [ 0.6753, -0.0561,  0.9984, -1.3500, -0.1734],\n",
              "         [-0.2871,  0.7760, -0.4060,  0.1509, -0.7311],\n",
              "         [-0.6795,  0.0914, -0.8666, -0.6768, -0.0971]],\n",
              "\n",
              "        [[-0.4921, -0.4492, -0.7540,  0.0669, -1.0038],\n",
              "         [ 0.5351,  0.5061,  1.3111, -0.3265,  0.7239],\n",
              "         [-0.9055,  1.1284, -0.5597, -0.2169,  0.4196],\n",
              "         [-0.1811, -0.7837,  0.5199,  0.5785, -0.8648],\n",
              "         [ 0.0427, -0.0589, -0.4906, -1.0665, -0.8070]]])"
            ]
          },
          "metadata": {
            "tags": []
          },
          "execution_count": 23
        }
      ]
    },
    {
      "cell_type": "code",
      "metadata": {
        "id": "M6lQGuYWGR8E",
        "colab_type": "code",
        "colab": {
          "base_uri": "https://localhost:8080/",
          "height": 34
        },
        "outputId": "d1519345-e70a-43b2-b16c-139965d5d3e3"
      },
      "source": [
        "batch_gray_weighted.shape"
      ],
      "execution_count": 25,
      "outputs": [
        {
          "output_type": "execute_result",
          "data": {
            "text/plain": [
              "torch.Size([2, 5, 5])"
            ]
          },
          "metadata": {
            "tags": []
          },
          "execution_count": 25
        }
      ]
    },
    {
      "cell_type": "code",
      "metadata": {
        "id": "fLO5YXlHEgEB",
        "colab_type": "code",
        "colab": {
          "base_uri": "https://localhost:8080/",
          "height": 34
        },
        "outputId": "9d30be8c-72f1-466e-d93e-9135c6ff8598"
      },
      "source": [
        "batch_weights.shape, batch_t.shape, unsqueezed_weights.shape"
      ],
      "execution_count": 24,
      "outputs": [
        {
          "output_type": "execute_result",
          "data": {
            "text/plain": [
              "(torch.Size([2, 3, 5, 5]), torch.Size([2, 3, 5, 5]), torch.Size([3, 1, 1]))"
            ]
          },
          "metadata": {
            "tags": []
          },
          "execution_count": 24
        }
      ]
    },
    {
      "cell_type": "code",
      "metadata": {
        "id": "eLd5Lu71G1Yn",
        "colab_type": "code",
        "colab": {
          "base_uri": "https://localhost:8080/",
          "height": 102
        },
        "outputId": "d93f8467-65be-48e6-e5b7-f72a38abd993"
      },
      "source": [
        "img_gray_weighted_fancy = torch.einsum('...chw,c->...hw', img_t, weights)\n",
        "img_gray_weighted_fancy"
      ],
      "execution_count": 26,
      "outputs": [
        {
          "output_type": "execute_result",
          "data": {
            "text/plain": [
              "tensor([[ 0.8511,  0.8238, -0.4373, -0.0380,  0.8264],\n",
              "        [-0.4152, -0.2806, -1.9291, -0.0314, -0.8806],\n",
              "        [ 0.4644,  0.2491,  0.3226,  0.0417,  1.4090],\n",
              "        [ 0.4167, -0.1692,  0.4073,  0.0115, -0.3338],\n",
              "        [ 0.2345,  0.4349,  0.9799,  0.5872,  1.2172]])"
            ]
          },
          "metadata": {
            "tags": []
          },
          "execution_count": 26
        }
      ]
    },
    {
      "cell_type": "code",
      "metadata": {
        "scrolled": true,
        "id": "ofA8y0f9EgED",
        "colab_type": "code",
        "colab": {},
        "outputId": "86a8dde0-a782-4a92-947e-534215b54b67"
      },
      "source": [
        "\n",
        "batch_gray_weighted_fancy = torch.einsum('...chw,c->...hw', batch_t, weights)\n",
        "batch_gray_weighted_fancy.shape"
      ],
      "execution_count": null,
      "outputs": [
        {
          "output_type": "execute_result",
          "data": {
            "text/plain": [
              "torch.Size([2, 5, 5])"
            ]
          },
          "metadata": {
            "tags": []
          },
          "execution_count": 6
        }
      ]
    },
    {
      "cell_type": "code",
      "metadata": {
        "id": "b_fFRAq9EgEG",
        "colab_type": "code",
        "colab": {
          "base_uri": "https://localhost:8080/",
          "height": 34
        },
        "outputId": "4f4ce264-ef0b-4f12-9d00-10136eb82b61"
      },
      "source": [
        "weights_named = torch.tensor([0.2126, 0.7152, 0.0722], names=['channels'])\n",
        "weights_named"
      ],
      "execution_count": 27,
      "outputs": [
        {
          "output_type": "execute_result",
          "data": {
            "text/plain": [
              "tensor([0.2126, 0.7152, 0.0722], names=('channels',))"
            ]
          },
          "metadata": {
            "tags": []
          },
          "execution_count": 27
        }
      ]
    },
    {
      "cell_type": "code",
      "metadata": {
        "id": "eAqMGlOOHIXp",
        "colab_type": "code",
        "colab": {
          "base_uri": "https://localhost:8080/",
          "height": 34
        },
        "outputId": "01a47911-2207-4338-bc93-ba2e7e210c41"
      },
      "source": [
        "weights_named.shape"
      ],
      "execution_count": 29,
      "outputs": [
        {
          "output_type": "execute_result",
          "data": {
            "text/plain": [
              "torch.Size([3])"
            ]
          },
          "metadata": {
            "tags": []
          },
          "execution_count": 29
        }
      ]
    },
    {
      "cell_type": "code",
      "metadata": {
        "scrolled": false,
        "id": "rVftOLiREgEK",
        "colab_type": "code",
        "colab": {
          "base_uri": "https://localhost:8080/",
          "height": 51
        },
        "outputId": "9204be33-112a-4bcb-b3fe-edf2a64064ff"
      },
      "source": [
        "img_named =  img_t.refine_names(..., 'channels', 'rows', 'columns')\n",
        "batch_named = batch_t.refine_names(..., 'channels', 'rows', 'columns')\n",
        "print(\"img named:\", img_named.shape, img_named.names)\n",
        "print(\"batch named:\", batch_named.shape, batch_named.names)"
      ],
      "execution_count": 28,
      "outputs": [
        {
          "output_type": "stream",
          "text": [
            "img named: torch.Size([3, 5, 5]) ('channels', 'rows', 'columns')\n",
            "batch named: torch.Size([2, 3, 5, 5]) (None, 'channels', 'rows', 'columns')\n"
          ],
          "name": "stdout"
        }
      ]
    },
    {
      "cell_type": "code",
      "metadata": {
        "scrolled": false,
        "id": "6R6uYm4bEgEN",
        "colab_type": "code",
        "colab": {
          "base_uri": "https://localhost:8080/",
          "height": 34
        },
        "outputId": "3cf707fe-925a-449e-9877-353e34413f42"
      },
      "source": [
        "weights_aligned = weights_named.align_as(img_named)\n",
        "weights_aligned.shape, weights_aligned.names"
      ],
      "execution_count": 30,
      "outputs": [
        {
          "output_type": "execute_result",
          "data": {
            "text/plain": [
              "(torch.Size([3, 1, 1]), ('channels', 'rows', 'columns'))"
            ]
          },
          "metadata": {
            "tags": []
          },
          "execution_count": 30
        }
      ]
    },
    {
      "cell_type": "code",
      "metadata": {
        "id": "TWn2gszzHSe8",
        "colab_type": "code",
        "colab": {
          "base_uri": "https://localhost:8080/",
          "height": 102
        },
        "outputId": "90a5b835-b7b4-4958-b654-32fcc6ddd220"
      },
      "source": [
        "weights_aligned"
      ],
      "execution_count": 31,
      "outputs": [
        {
          "output_type": "execute_result",
          "data": {
            "text/plain": [
              "tensor([[[0.2126]],\n",
              "\n",
              "        [[0.7152]],\n",
              "\n",
              "        [[0.0722]]], names=('channels', 'rows', 'columns'))"
            ]
          },
          "metadata": {
            "tags": []
          },
          "execution_count": 31
        }
      ]
    },
    {
      "cell_type": "code",
      "metadata": {
        "scrolled": true,
        "id": "AU8WIRz4EgEP",
        "colab_type": "code",
        "colab": {
          "base_uri": "https://localhost:8080/",
          "height": 34
        },
        "outputId": "0b439810-517e-4aa8-c4d7-8c3ee9d89fe3"
      },
      "source": [
        "gray_named = (img_named * weights_aligned).sum('channels')\n",
        "gray_named.shape, gray_named.names"
      ],
      "execution_count": 32,
      "outputs": [
        {
          "output_type": "execute_result",
          "data": {
            "text/plain": [
              "(torch.Size([5, 5]), ('rows', 'columns'))"
            ]
          },
          "metadata": {
            "tags": []
          },
          "execution_count": 32
        }
      ]
    },
    {
      "cell_type": "code",
      "metadata": {
        "id": "UKDt0-9ZHaZJ",
        "colab_type": "code",
        "colab": {
          "base_uri": "https://localhost:8080/",
          "height": 119
        },
        "outputId": "602bc5d3-a793-492e-f52c-15cab16ef3bb"
      },
      "source": [
        "gray_named"
      ],
      "execution_count": 33,
      "outputs": [
        {
          "output_type": "execute_result",
          "data": {
            "text/plain": [
              "tensor([[ 0.8511,  0.8238, -0.4373, -0.0380,  0.8264],\n",
              "        [-0.4152, -0.2806, -1.9291, -0.0314, -0.8806],\n",
              "        [ 0.4644,  0.2491,  0.3226,  0.0417,  1.4090],\n",
              "        [ 0.4167, -0.1692,  0.4073,  0.0115, -0.3338],\n",
              "        [ 0.2345,  0.4349,  0.9799,  0.5872,  1.2172]],\n",
              "       names=('rows', 'columns'))"
            ]
          },
          "metadata": {
            "tags": []
          },
          "execution_count": 33
        }
      ]
    },
    {
      "cell_type": "code",
      "metadata": {
        "scrolled": true,
        "id": "isy75YUxEgES",
        "colab_type": "code",
        "colab": {},
        "outputId": "a3a04f44-1735-4118-a52d-7b8be439b799"
      },
      "source": [
        "try:\n",
        "    gray_named = (img_named[..., :3] * weights_named).sum('channels')\n",
        "except Exception as e:\n",
        "    print(e)"
      ],
      "execution_count": null,
      "outputs": [
        {
          "output_type": "stream",
          "text": [
            "Error when attempting to broadcast dims ['channels', 'rows', 'columns'] and dims ['channels']: dim 'columns' and dim 'channels' are at the same position from the right but do not match.\n"
          ],
          "name": "stdout"
        }
      ]
    },
    {
      "cell_type": "code",
      "metadata": {
        "id": "nyUR8h9tEgEU",
        "colab_type": "code",
        "colab": {},
        "outputId": "fd703e87-542d-4181-ae91-5727c8c94f15"
      },
      "source": [
        "gray_plain = gray_named.rename(None)\n",
        "gray_plain.shape, gray_plain.names"
      ],
      "execution_count": null,
      "outputs": [
        {
          "output_type": "execute_result",
          "data": {
            "text/plain": [
              "(torch.Size([5, 5]), (None, None))"
            ]
          },
          "metadata": {
            "tags": []
          },
          "execution_count": 12
        }
      ]
    },
    {
      "cell_type": "code",
      "metadata": {
        "id": "vDccxliPEgEW",
        "colab_type": "code",
        "colab": {}
      },
      "source": [
        ""
      ],
      "execution_count": null,
      "outputs": []
    },
    {
      "cell_type": "code",
      "metadata": {
        "id": "_k7V6LJaEgEZ",
        "colab_type": "code",
        "colab": {}
      },
      "source": [
        ""
      ],
      "execution_count": null,
      "outputs": []
    }
  ]
}