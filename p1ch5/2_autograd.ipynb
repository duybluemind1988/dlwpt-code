{
  "nbformat": 4,
  "nbformat_minor": 0,
  "metadata": {
    "kernelspec": {
      "display_name": "Python 3",
      "language": "python",
      "name": "python3"
    },
    "language_info": {
      "codemirror_mode": {
        "name": "ipython",
        "version": 3
      },
      "file_extension": ".py",
      "mimetype": "text/x-python",
      "name": "python",
      "nbconvert_exporter": "python",
      "pygments_lexer": "ipython3",
      "version": "3.7.6"
    },
    "colab": {
      "name": "2_autograd.ipynb",
      "provenance": []
    }
  },
  "cells": [
    {
      "cell_type": "code",
      "metadata": {
        "id": "OL7G2xP8UUI0",
        "colab_type": "code",
        "colab": {}
      },
      "source": [
        "%matplotlib inline\n",
        "import numpy as np\n",
        "import torch\n",
        "torch.set_printoptions(edgeitems=2)"
      ],
      "execution_count": 25,
      "outputs": []
    },
    {
      "cell_type": "code",
      "metadata": {
        "id": "E8yjcWk9UUI4",
        "colab_type": "code",
        "colab": {}
      },
      "source": [
        "t_c = torch.tensor([0.5, 14.0, 15.0, 28.0, 11.0, 8.0,\n",
        "                    3.0, -4.0, 6.0, 13.0, 21.0])\n",
        "t_u = torch.tensor([35.7, 55.9, 58.2, 81.9, 56.3, 48.9,\n",
        "                    33.9, 21.8, 48.4, 60.4, 68.4])\n",
        "t_un = 0.1 * t_u"
      ],
      "execution_count": 26,
      "outputs": []
    },
    {
      "cell_type": "code",
      "metadata": {
        "id": "tyZmctQEUUI7",
        "colab_type": "code",
        "colab": {}
      },
      "source": [
        "def model(t_u, w, b):\n",
        "    return w * t_u + b"
      ],
      "execution_count": 27,
      "outputs": []
    },
    {
      "cell_type": "code",
      "metadata": {
        "id": "QfjufYdgUUI-",
        "colab_type": "code",
        "colab": {}
      },
      "source": [
        "def loss_fn(t_p, t_c):\n",
        "    squared_diffs = (t_p - t_c)**2\n",
        "    return squared_diffs.mean()"
      ],
      "execution_count": 28,
      "outputs": []
    },
    {
      "cell_type": "code",
      "metadata": {
        "id": "rUFUaAphUUJB",
        "colab_type": "code",
        "colab": {
          "base_uri": "https://localhost:8080/",
          "height": 34
        },
        "outputId": "8a1576bf-bcae-406d-dbac-c9251b68fd15"
      },
      "source": [
        "params = torch.tensor([1.0, 0.0], requires_grad=True)\n",
        "params"
      ],
      "execution_count": 29,
      "outputs": [
        {
          "output_type": "execute_result",
          "data": {
            "text/plain": [
              "tensor([1., 0.], requires_grad=True)"
            ]
          },
          "metadata": {
            "tags": []
          },
          "execution_count": 29
        }
      ]
    },
    {
      "cell_type": "code",
      "metadata": {
        "id": "eDUBrXS3WRAh",
        "colab_type": "code",
        "colab": {}
      },
      "source": [
        "params.grad"
      ],
      "execution_count": 30,
      "outputs": []
    },
    {
      "cell_type": "code",
      "metadata": {
        "id": "R4RJV8y6UUJE",
        "colab_type": "code",
        "colab": {
          "base_uri": "https://localhost:8080/",
          "height": 34
        },
        "outputId": "b12db056-87c1-4b65-dc38-ec1d251d8935"
      },
      "source": [
        "params.grad is None"
      ],
      "execution_count": 31,
      "outputs": [
        {
          "output_type": "execute_result",
          "data": {
            "text/plain": [
              "True"
            ]
          },
          "metadata": {
            "tags": []
          },
          "execution_count": 31
        }
      ]
    },
    {
      "cell_type": "code",
      "metadata": {
        "id": "yQn8sO9vUUJH",
        "colab_type": "code",
        "colab": {
          "base_uri": "https://localhost:8080/",
          "height": 34
        },
        "outputId": "bdf2309a-d8a7-4f9a-abd7-a0992422c362"
      },
      "source": [
        "loss = loss_fn(model(t_u, *params), t_c)\n",
        "loss"
      ],
      "execution_count": 32,
      "outputs": [
        {
          "output_type": "execute_result",
          "data": {
            "text/plain": [
              "tensor(1763.8846, grad_fn=<MeanBackward0>)"
            ]
          },
          "metadata": {
            "tags": []
          },
          "execution_count": 32
        }
      ]
    },
    {
      "cell_type": "code",
      "metadata": {
        "id": "la3JxekeWLSD",
        "colab_type": "code",
        "colab": {}
      },
      "source": [
        "loss.backward()"
      ],
      "execution_count": 33,
      "outputs": []
    },
    {
      "cell_type": "code",
      "metadata": {
        "id": "DtMwiOfVWMtI",
        "colab_type": "code",
        "colab": {
          "base_uri": "https://localhost:8080/",
          "height": 34
        },
        "outputId": "3bcb2b2f-d350-425f-c95a-2196aad86cd3"
      },
      "source": [
        "loss"
      ],
      "execution_count": 34,
      "outputs": [
        {
          "output_type": "execute_result",
          "data": {
            "text/plain": [
              "tensor(1763.8846, grad_fn=<MeanBackward0>)"
            ]
          },
          "metadata": {
            "tags": []
          },
          "execution_count": 34
        }
      ]
    },
    {
      "cell_type": "code",
      "metadata": {
        "id": "cQmFeqpiWYvN",
        "colab_type": "code",
        "colab": {
          "base_uri": "https://localhost:8080/",
          "height": 34
        },
        "outputId": "beeeddd8-1c06-443f-af68-736cb5b8009b"
      },
      "source": [
        "params"
      ],
      "execution_count": 35,
      "outputs": [
        {
          "output_type": "execute_result",
          "data": {
            "text/plain": [
              "tensor([1., 0.], requires_grad=True)"
            ]
          },
          "metadata": {
            "tags": []
          },
          "execution_count": 35
        }
      ]
    },
    {
      "cell_type": "code",
      "metadata": {
        "id": "ToS5-j57WIna",
        "colab_type": "code",
        "colab": {
          "base_uri": "https://localhost:8080/",
          "height": 34
        },
        "outputId": "b8586e62-3713-4108-d324-cca433cac9a0"
      },
      "source": [
        "params.grad"
      ],
      "execution_count": 36,
      "outputs": [
        {
          "output_type": "execute_result",
          "data": {
            "text/plain": [
              "tensor([4517.2969,   82.6000])"
            ]
          },
          "metadata": {
            "tags": []
          },
          "execution_count": 36
        }
      ]
    },
    {
      "cell_type": "code",
      "metadata": {
        "id": "RFx3k41kWf0O",
        "colab_type": "code",
        "colab": {
          "base_uri": "https://localhost:8080/",
          "height": 34
        },
        "outputId": "4f9d7723-cc7b-481c-f538-c399a376ec29"
      },
      "source": [
        "params.grad is None"
      ],
      "execution_count": 37,
      "outputs": [
        {
          "output_type": "execute_result",
          "data": {
            "text/plain": [
              "False"
            ]
          },
          "metadata": {
            "tags": []
          },
          "execution_count": 37
        }
      ]
    },
    {
      "cell_type": "code",
      "metadata": {
        "id": "uQcuOGO4UUJK",
        "colab_type": "code",
        "colab": {
          "base_uri": "https://localhost:8080/",
          "height": 34
        },
        "outputId": "251457a6-86cb-4b63-9775-933fdaa6e374"
      },
      "source": [
        "if params.grad is not None:\n",
        "    params.grad.zero_()\n",
        "params.grad"
      ],
      "execution_count": 38,
      "outputs": [
        {
          "output_type": "execute_result",
          "data": {
            "text/plain": [
              "tensor([0., 0.])"
            ]
          },
          "metadata": {
            "tags": []
          },
          "execution_count": 38
        }
      ]
    },
    {
      "cell_type": "code",
      "metadata": {
        "id": "tVmqqOv8UUJN",
        "colab_type": "code",
        "colab": {}
      },
      "source": [
        "def training_loop(n_epochs, learning_rate, params, t_u, t_c):\n",
        "    for epoch in range(1, n_epochs + 1):\n",
        "        if params.grad is not None:  # <1>\n",
        "            params.grad.zero_()\n",
        "        \n",
        "        t_p = model(t_u, *params) \n",
        "        loss = loss_fn(t_p, t_c)\n",
        "        loss.backward()\n",
        "        \n",
        "        with torch.no_grad():  # <2>\n",
        "            params -= learning_rate * params.grad\n",
        "\n",
        "        if epoch % 500 == 0:\n",
        "            print('Epoch %d, Loss %f' % (epoch, float(loss)))\n",
        "            \n",
        "    return params"
      ],
      "execution_count": 39,
      "outputs": []
    },
    {
      "cell_type": "code",
      "metadata": {
        "id": "GzxyL_aZUUJQ",
        "colab_type": "code",
        "colab": {
          "base_uri": "https://localhost:8080/",
          "height": 204
        },
        "outputId": "df976123-084d-42f8-f490-323b25bdc149"
      },
      "source": [
        "training_loop(\n",
        "    n_epochs = 5000, \n",
        "    learning_rate = 1e-2, \n",
        "    params = torch.tensor([1.0, 0.0], requires_grad=True), # <1> \n",
        "    t_u = t_un, # <2> \n",
        "    t_c = t_c)"
      ],
      "execution_count": 48,
      "outputs": [
        {
          "output_type": "stream",
          "text": [
            "Epoch 500, Loss 7.860116\n",
            "Epoch 1000, Loss 3.828538\n",
            "Epoch 1500, Loss 3.092191\n",
            "Epoch 2000, Loss 2.957697\n",
            "Epoch 2500, Loss 2.933134\n",
            "Epoch 3000, Loss 2.928648\n",
            "Epoch 3500, Loss 2.927830\n",
            "Epoch 4000, Loss 2.927679\n",
            "Epoch 4500, Loss 2.927652\n",
            "Epoch 5000, Loss 2.927647\n"
          ],
          "name": "stdout"
        },
        {
          "output_type": "execute_result",
          "data": {
            "text/plain": [
              "tensor([  5.3671, -17.3012], requires_grad=True)"
            ]
          },
          "metadata": {
            "tags": []
          },
          "execution_count": 48
        }
      ]
    },
    {
      "cell_type": "markdown",
      "metadata": {
        "id": "ni7wVQJ9Y4Nb",
        "colab_type": "text"
      },
      "source": [
        "# Explain"
      ]
    },
    {
      "cell_type": "code",
      "metadata": {
        "id": "BmKGukS2Wv1L",
        "colab_type": "code",
        "colab": {
          "base_uri": "https://localhost:8080/",
          "height": 357
        },
        "outputId": "131fc1e8-9a21-4fab-d58e-a27303b4b475"
      },
      "source": [
        "n_epochs = 10 \n",
        "learning_rate = 1e-2 \n",
        "params = torch.tensor([1.0, 0.0], requires_grad=True) # <1> \n",
        "t_u = t_un # <2> \n",
        "t_c = t_c\n",
        "for epoch in range(1, n_epochs + 1):\n",
        "  if params.grad is not None:  # <1>\n",
        "      params.grad.zero_()\n",
        "  \n",
        "  t_p = model(t_u, *params) \n",
        "  loss = loss_fn(t_p, t_c) # (y_pred-y_true) **2 .mean()\n",
        "  loss.backward()\n",
        "  print('params.grad: ',params.grad) # contail dw and db (khong can đạo hàm manual nữa)\n",
        "  with torch.no_grad():  # <2>\n",
        "      params -= learning_rate * params.grad # update w and b: learning rate * dw, db\n",
        "\n",
        "  if epoch % 500 == 0:\n",
        "      print('Epoch %d, Loss %f' % (epoch, float(loss)))\n",
        "  print('params: {},loss: {}'.format(params,loss))\n",
        "#print(params)"
      ],
      "execution_count": 54,
      "outputs": [
        {
          "output_type": "stream",
          "text": [
            "params.grad:  tensor([-77.6140, -10.6400])\n",
            "params: tensor([1.7761, 0.1064], requires_grad=True),loss: 80.36434173583984\n",
            "params.grad:  tensor([-30.8623,  -2.3864])\n",
            "params: tensor([2.0848, 0.1303], requires_grad=True),loss: 37.57491683959961\n",
            "params.grad:  tensor([-12.4631,   0.8587])\n",
            "params: tensor([2.2094, 0.1217], requires_grad=True),loss: 30.871076583862305\n",
            "params.grad:  tensor([-5.2218,  2.1327])\n",
            "params: tensor([2.2616, 0.1004], requires_grad=True),loss: 29.756193161010742\n",
            "params.grad:  tensor([-2.3715,  2.6310])\n",
            "params: tensor([2.2853, 0.0740], requires_grad=True),loss: 29.50714874267578\n",
            "params.grad:  tensor([-1.2492,  2.8241])\n",
            "params: tensor([2.2978, 0.0458], requires_grad=True),loss: 29.392457962036133\n",
            "params.grad:  tensor([-0.8071,  2.8970])\n",
            "params: tensor([2.3059, 0.0168], requires_grad=True),loss: 29.298828125\n",
            "params.grad:  tensor([-0.6325,  2.9227])\n",
            "params: tensor([ 2.3122, -0.0124], requires_grad=True),loss: 29.208717346191406\n",
            "params.grad:  tensor([-0.5633,  2.9298])\n",
            "params: tensor([ 2.3178, -0.0417], requires_grad=True),loss: 29.119417190551758\n",
            "params.grad:  tensor([-0.5355,  2.9295])\n",
            "params: tensor([ 2.3232, -0.0710], requires_grad=True),loss: 29.030487060546875\n"
          ],
          "name": "stdout"
        }
      ]
    },
    {
      "cell_type": "code",
      "metadata": {
        "id": "KqkGI3vVp2ph",
        "colab_type": "code",
        "colab": {}
      },
      "source": [
        ""
      ],
      "execution_count": null,
      "outputs": []
    }
  ]
}