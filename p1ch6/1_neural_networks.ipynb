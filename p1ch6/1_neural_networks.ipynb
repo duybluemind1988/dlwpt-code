{
  "nbformat": 4,
  "nbformat_minor": 0,
  "metadata": {
    "kernelspec": {
      "display_name": "Python 3",
      "language": "python",
      "name": "python3"
    },
    "language_info": {
      "codemirror_mode": {
        "name": "ipython",
        "version": 3
      },
      "file_extension": ".py",
      "mimetype": "text/x-python",
      "name": "python",
      "nbconvert_exporter": "python",
      "pygments_lexer": "ipython3",
      "version": "3.7.6"
    },
    "colab": {
      "name": "1_neural_networks.ipynb",
      "provenance": []
    }
  },
  "cells": [
    {
      "cell_type": "code",
      "metadata": {
        "id": "InEYRrINnTd2",
        "colab_type": "code",
        "colab": {}
      },
      "source": [
        "%matplotlib inline\n",
        "import numpy as np\n",
        "import torch\n",
        "import torch.optim as optim\n",
        "\n",
        "torch.set_printoptions(edgeitems=2, linewidth=75)"
      ],
      "execution_count": 1,
      "outputs": []
    },
    {
      "cell_type": "code",
      "metadata": {
        "id": "p0pjJk9fnTd6",
        "colab_type": "code",
        "colab": {
          "base_uri": "https://localhost:8080/",
          "height": 34
        },
        "outputId": "38aaac31-484e-47a7-c5de-11db9c854298"
      },
      "source": [
        "t_c = [0.5,  14.0, 15.0, 28.0, 11.0,  8.0,  3.0, -4.0,  6.0, 13.0, 21.0]\n",
        "t_u = [35.7, 55.9, 58.2, 81.9, 56.3, 48.9, 33.9, 21.8, 48.4, 60.4, 68.4]\n",
        "t_c = torch.tensor(t_c).unsqueeze(1) # <1>\n",
        "t_u = torch.tensor(t_u).unsqueeze(1) # <1>\n",
        "\n",
        "t_u.shape"
      ],
      "execution_count": 2,
      "outputs": [
        {
          "output_type": "execute_result",
          "data": {
            "text/plain": [
              "torch.Size([11, 1])"
            ]
          },
          "metadata": {
            "tags": []
          },
          "execution_count": 2
        }
      ]
    },
    {
      "cell_type": "code",
      "metadata": {
        "id": "OAhAvU0br64u",
        "colab_type": "code",
        "colab": {
          "base_uri": "https://localhost:8080/",
          "height": 204
        },
        "outputId": "c65426ff-6f2c-4c06-ba7e-fe44eaad6803"
      },
      "source": [
        "t_u"
      ],
      "execution_count": 3,
      "outputs": [
        {
          "output_type": "execute_result",
          "data": {
            "text/plain": [
              "tensor([[35.7000],\n",
              "        [55.9000],\n",
              "        [58.2000],\n",
              "        [81.9000],\n",
              "        [56.3000],\n",
              "        [48.9000],\n",
              "        [33.9000],\n",
              "        [21.8000],\n",
              "        [48.4000],\n",
              "        [60.4000],\n",
              "        [68.4000]])"
            ]
          },
          "metadata": {
            "tags": []
          },
          "execution_count": 3
        }
      ]
    },
    {
      "cell_type": "markdown",
      "metadata": {
        "id": "bgDe87FtsHNU",
        "colab_type": "text"
      },
      "source": [
        "Shuffled indices and create train / val set (efficiency way ?)"
      ]
    },
    {
      "cell_type": "code",
      "metadata": {
        "id": "_CM53XLxnTd9",
        "colab_type": "code",
        "colab": {
          "base_uri": "https://localhost:8080/",
          "height": 85
        },
        "outputId": "8d27128b-86bf-4375-9975-c7401783d7ce"
      },
      "source": [
        "n_samples = t_u.shape[0]\n",
        "n_val = int(0.2 * n_samples)\n",
        "print(n_samples)\n",
        "print(n_val)\n",
        "\n",
        "shuffled_indices = torch.randperm(n_samples)\n",
        "print(shuffled_indices)\n",
        "\n",
        "train_indices = shuffled_indices[:-n_val]\n",
        "val_indices = shuffled_indices[-n_val:]\n",
        "\n",
        "train_indices, val_indices"
      ],
      "execution_count": 4,
      "outputs": [
        {
          "output_type": "stream",
          "text": [
            "11\n",
            "2\n",
            "tensor([10,  4,  1,  0,  8,  6,  9,  2,  7,  3,  5])\n"
          ],
          "name": "stdout"
        },
        {
          "output_type": "execute_result",
          "data": {
            "text/plain": [
              "(tensor([10,  4,  1,  0,  8,  6,  9,  2,  7]), tensor([3, 5]))"
            ]
          },
          "metadata": {
            "tags": []
          },
          "execution_count": 4
        }
      ]
    },
    {
      "cell_type": "code",
      "metadata": {
        "id": "jueitudLnTeA",
        "colab_type": "code",
        "colab": {}
      },
      "source": [
        "t_u_train = t_u[train_indices] # X_train\n",
        "t_c_train = t_c[train_indices] # y_train\n",
        "\n",
        "t_u_val = t_u[val_indices] # X_val\n",
        "t_c_val = t_c[val_indices] # y_val"
      ],
      "execution_count": 5,
      "outputs": []
    },
    {
      "cell_type": "markdown",
      "metadata": {
        "id": "r573TpVWsOq_",
        "colab_type": "text"
      },
      "source": [
        "Normalize input"
      ]
    },
    {
      "cell_type": "code",
      "metadata": {
        "id": "wuwcp_QPsAlo",
        "colab_type": "code",
        "colab": {}
      },
      "source": [
        "t_un_train = 0.1 * t_u_train\n",
        "t_un_val = 0.1 * t_u_val"
      ],
      "execution_count": 6,
      "outputs": []
    },
    {
      "cell_type": "code",
      "metadata": {
        "id": "XjEc3FNSnTeE",
        "colab_type": "code",
        "colab": {
          "base_uri": "https://localhost:8080/",
          "height": 34
        },
        "outputId": "1db826ee-ca46-4504-b2d0-8af91e919c88"
      },
      "source": [
        "import torch.nn as nn\n",
        "\n",
        "linear_model = nn.Linear(1, 1) # <1>\n",
        "linear_model"
      ],
      "execution_count": 7,
      "outputs": [
        {
          "output_type": "execute_result",
          "data": {
            "text/plain": [
              "Linear(in_features=1, out_features=1, bias=True)"
            ]
          },
          "metadata": {
            "tags": []
          },
          "execution_count": 7
        }
      ]
    },
    {
      "cell_type": "code",
      "metadata": {
        "id": "TgV8P9JbiAA6",
        "colab_type": "code",
        "colab": {
          "base_uri": "https://localhost:8080/",
          "height": 51
        },
        "outputId": "f86bc39d-e48f-4c18-c945-53291a5d1b52"
      },
      "source": [
        "t_un_val"
      ],
      "execution_count": 8,
      "outputs": [
        {
          "output_type": "execute_result",
          "data": {
            "text/plain": [
              "tensor([[8.1900],\n",
              "        [4.8900]])"
            ]
          },
          "metadata": {
            "tags": []
          },
          "execution_count": 8
        }
      ]
    },
    {
      "cell_type": "code",
      "metadata": {
        "id": "HoD0oDS2sUOY",
        "colab_type": "code",
        "colab": {
          "base_uri": "https://localhost:8080/",
          "height": 51
        },
        "outputId": "cdc7d623-04ec-48b4-e17c-8cd98b9165e1"
      },
      "source": [
        "linear_model(t_un_val)"
      ],
      "execution_count": 9,
      "outputs": [
        {
          "output_type": "execute_result",
          "data": {
            "text/plain": [
              "tensor([[4.0960],\n",
              "        [2.1992]], grad_fn=<AddmmBackward>)"
            ]
          },
          "metadata": {
            "tags": []
          },
          "execution_count": 9
        }
      ]
    },
    {
      "cell_type": "code",
      "metadata": {
        "id": "6pUR0VOanTeI",
        "colab_type": "code",
        "colab": {
          "base_uri": "https://localhost:8080/",
          "height": 51
        },
        "outputId": "e9a1f695-1fbd-4379-f00d-1c6c96b618d3"
      },
      "source": [
        "linear_model.weight"
      ],
      "execution_count": 10,
      "outputs": [
        {
          "output_type": "execute_result",
          "data": {
            "text/plain": [
              "Parameter containing:\n",
              "tensor([[0.5748]], requires_grad=True)"
            ]
          },
          "metadata": {
            "tags": []
          },
          "execution_count": 10
        }
      ]
    },
    {
      "cell_type": "code",
      "metadata": {
        "id": "TY1wb2u0nTeL",
        "colab_type": "code",
        "colab": {
          "base_uri": "https://localhost:8080/",
          "height": 51
        },
        "outputId": "e50ff7ed-cede-4955-c965-ed0811490856"
      },
      "source": [
        "linear_model.bias"
      ],
      "execution_count": 11,
      "outputs": [
        {
          "output_type": "execute_result",
          "data": {
            "text/plain": [
              "Parameter containing:\n",
              "tensor([-0.6115], requires_grad=True)"
            ]
          },
          "metadata": {
            "tags": []
          },
          "execution_count": 11
        }
      ]
    },
    {
      "cell_type": "code",
      "metadata": {
        "id": "QbypGAHSh02U",
        "colab_type": "code",
        "colab": {
          "base_uri": "https://localhost:8080/",
          "height": 34
        },
        "outputId": "eb5cbdae-e94d-4088-b784-3e2a6754b276"
      },
      "source": [
        "x = torch.ones(1)\n",
        "x"
      ],
      "execution_count": 12,
      "outputs": [
        {
          "output_type": "execute_result",
          "data": {
            "text/plain": [
              "tensor([1.])"
            ]
          },
          "metadata": {
            "tags": []
          },
          "execution_count": 12
        }
      ]
    },
    {
      "cell_type": "code",
      "metadata": {
        "id": "xdrGS41enTeQ",
        "colab_type": "code",
        "colab": {
          "base_uri": "https://localhost:8080/",
          "height": 34
        },
        "outputId": "bfaf729e-87e2-44dd-b29c-c4075a60a0d1"
      },
      "source": [
        "\n",
        "linear_model(x)"
      ],
      "execution_count": 13,
      "outputs": [
        {
          "output_type": "execute_result",
          "data": {
            "text/plain": [
              "tensor([-0.0367], grad_fn=<AddBackward0>)"
            ]
          },
          "metadata": {
            "tags": []
          },
          "execution_count": 13
        }
      ]
    },
    {
      "cell_type": "code",
      "metadata": {
        "id": "dujMSkeeiHfy",
        "colab_type": "code",
        "colab": {
          "base_uri": "https://localhost:8080/",
          "height": 187
        },
        "outputId": "4e9c38c7-7f70-4060-c357-8efe816cd021"
      },
      "source": [
        "x = torch.ones(10, 1)\n",
        "x"
      ],
      "execution_count": 14,
      "outputs": [
        {
          "output_type": "execute_result",
          "data": {
            "text/plain": [
              "tensor([[1.],\n",
              "        [1.],\n",
              "        [1.],\n",
              "        [1.],\n",
              "        [1.],\n",
              "        [1.],\n",
              "        [1.],\n",
              "        [1.],\n",
              "        [1.],\n",
              "        [1.]])"
            ]
          },
          "metadata": {
            "tags": []
          },
          "execution_count": 14
        }
      ]
    },
    {
      "cell_type": "code",
      "metadata": {
        "id": "q5TmRNzCnTeS",
        "colab_type": "code",
        "colab": {
          "base_uri": "https://localhost:8080/",
          "height": 187
        },
        "outputId": "5cdac44a-77d8-46de-e03b-5935fca37ae2"
      },
      "source": [
        "\n",
        "linear_model(x)"
      ],
      "execution_count": 15,
      "outputs": [
        {
          "output_type": "execute_result",
          "data": {
            "text/plain": [
              "tensor([[-0.0367],\n",
              "        [-0.0367],\n",
              "        [-0.0367],\n",
              "        [-0.0367],\n",
              "        [-0.0367],\n",
              "        [-0.0367],\n",
              "        [-0.0367],\n",
              "        [-0.0367],\n",
              "        [-0.0367],\n",
              "        [-0.0367]], grad_fn=<AddmmBackward>)"
            ]
          },
          "metadata": {
            "tags": []
          },
          "execution_count": 15
        }
      ]
    },
    {
      "cell_type": "code",
      "metadata": {
        "id": "gzmoXD0jijy5",
        "colab_type": "code",
        "colab": {
          "base_uri": "https://localhost:8080/",
          "height": 34
        },
        "outputId": "78194151-e445-4948-c050-57ac83423927"
      },
      "source": [
        "linear_model = nn.Linear(1, 1) # <1>\n",
        "linear_model"
      ],
      "execution_count": 16,
      "outputs": [
        {
          "output_type": "execute_result",
          "data": {
            "text/plain": [
              "Linear(in_features=1, out_features=1, bias=True)"
            ]
          },
          "metadata": {
            "tags": []
          },
          "execution_count": 16
        }
      ]
    },
    {
      "cell_type": "code",
      "metadata": {
        "id": "Fhv9Sr6linXi",
        "colab_type": "code",
        "colab": {
          "base_uri": "https://localhost:8080/",
          "height": 34
        },
        "outputId": "d3f1b1a1-2753-46dd-8d56-4912a2a21176"
      },
      "source": [
        "linear_model.parameters()"
      ],
      "execution_count": 17,
      "outputs": [
        {
          "output_type": "execute_result",
          "data": {
            "text/plain": [
              "<generator object Module.parameters at 0x7f55e3c5ba98>"
            ]
          },
          "metadata": {
            "tags": []
          },
          "execution_count": 17
        }
      ]
    },
    {
      "cell_type": "code",
      "metadata": {
        "id": "kGNfoFW-nTeW",
        "colab_type": "code",
        "colab": {
          "base_uri": "https://localhost:8080/",
          "height": 153
        },
        "outputId": "2779e92c-1435-418e-be3b-b63978fbf846"
      },
      "source": [
        "\n",
        "optimizer = optim.SGD(\n",
        "    linear_model.parameters(), # <2>\n",
        "    lr=1e-2)\n",
        "optimizer"
      ],
      "execution_count": 18,
      "outputs": [
        {
          "output_type": "execute_result",
          "data": {
            "text/plain": [
              "SGD (\n",
              "Parameter Group 0\n",
              "    dampening: 0\n",
              "    lr: 0.01\n",
              "    momentum: 0\n",
              "    nesterov: False\n",
              "    weight_decay: 0\n",
              ")"
            ]
          },
          "metadata": {
            "tags": []
          },
          "execution_count": 18
        }
      ]
    },
    {
      "cell_type": "code",
      "metadata": {
        "id": "GqWv8_d4nTea",
        "colab_type": "code",
        "colab": {
          "base_uri": "https://localhost:8080/",
          "height": 34
        },
        "outputId": "c9a06095-9ee3-4956-9321-3f9ba4a590a7"
      },
      "source": [
        "linear_model.parameters()"
      ],
      "execution_count": 19,
      "outputs": [
        {
          "output_type": "execute_result",
          "data": {
            "text/plain": [
              "<generator object Module.parameters at 0x7f562e394a40>"
            ]
          },
          "metadata": {
            "tags": []
          },
          "execution_count": 19
        }
      ]
    },
    {
      "cell_type": "code",
      "metadata": {
        "id": "myS27iX5nTed",
        "colab_type": "code",
        "colab": {
          "base_uri": "https://localhost:8080/",
          "height": 68
        },
        "outputId": "86b22ad3-cbdd-4f98-d0f1-16efbbd5c82c"
      },
      "source": [
        "list(linear_model.parameters())"
      ],
      "execution_count": 20,
      "outputs": [
        {
          "output_type": "execute_result",
          "data": {
            "text/plain": [
              "[Parameter containing:\n",
              " tensor([[0.0906]], requires_grad=True), Parameter containing:\n",
              " tensor([0.7018], requires_grad=True)]"
            ]
          },
          "metadata": {
            "tags": []
          },
          "execution_count": 20
        }
      ]
    },
    {
      "cell_type": "code",
      "metadata": {
        "id": "zBuwVJ40nTef",
        "colab_type": "code",
        "colab": {}
      },
      "source": [
        "def training_loop(n_epochs, optimizer, model, loss_fn, t_u_train, t_u_val,\n",
        "                  t_c_train, t_c_val):\n",
        "    for epoch in range(1, n_epochs + 1):\n",
        "        t_p_train = model(t_u_train) # <1>\n",
        "        loss_train = loss_fn(t_p_train, t_c_train)\n",
        "\n",
        "        t_p_val = model(t_u_val) # <1>\n",
        "        loss_val = loss_fn(t_p_val, t_c_val)\n",
        "        \n",
        "        optimizer.zero_grad()\n",
        "        loss_train.backward() # <2>\n",
        "        optimizer.step()\n",
        "\n",
        "        if epoch == 1 or epoch % 1000 == 0:\n",
        "            print(f\"Epoch {epoch}, Training loss {loss_train.item():.4f},\"\n",
        "                  f\" Validation loss {loss_val.item():.4f}\")\n"
      ],
      "execution_count": 21,
      "outputs": []
    },
    {
      "cell_type": "code",
      "metadata": {
        "id": "GQnvtokanTeh",
        "colab_type": "code",
        "colab": {
          "base_uri": "https://localhost:8080/",
          "height": 170
        },
        "outputId": "df12e56f-8de1-4aa7-9938-51fb2fd99975"
      },
      "source": [
        "def loss_fn(t_p, t_c):\n",
        "    squared_diffs = (t_p - t_c)**2\n",
        "    return squared_diffs.mean()\n",
        "\n",
        "linear_model = nn.Linear(1, 1) # <1>\n",
        "optimizer = optim.SGD(linear_model.parameters(), lr=1e-2)\n",
        "\n",
        "training_loop(\n",
        "    n_epochs = 3000, \n",
        "    optimizer = optimizer,\n",
        "    model = linear_model,\n",
        "    loss_fn = loss_fn,\n",
        "    t_u_train = t_un_train,\n",
        "    t_u_val = t_un_val, \n",
        "    t_c_train = t_c_train,\n",
        "    t_c_val = t_c_val)\n",
        "\n",
        "print()\n",
        "print(linear_model.weight)\n",
        "print(linear_model.bias)"
      ],
      "execution_count": 22,
      "outputs": [
        {
          "output_type": "stream",
          "text": [
            "Epoch 1, Training loss 236.1168, Validation loss 667.1441\n",
            "Epoch 1000, Training loss 4.2144, Validation loss 9.5129\n",
            "Epoch 2000, Training loss 3.2077, Validation loss 3.9031\n",
            "Epoch 3000, Training loss 3.1602, Validation loss 3.0191\n",
            "\n",
            "Parameter containing:\n",
            "tensor([[5.0934]], requires_grad=True)\n",
            "Parameter containing:\n",
            "tensor([-15.9982], requires_grad=True)\n"
          ],
          "name": "stdout"
        }
      ]
    },
    {
      "cell_type": "code",
      "metadata": {
        "id": "sl-Sb8jdnTel",
        "colab_type": "code",
        "colab": {
          "base_uri": "https://localhost:8080/",
          "height": 170
        },
        "outputId": "20af5c2a-be0a-438f-900b-04eabba808d9"
      },
      "source": [
        "linear_model = nn.Linear(1, 1)\n",
        "optimizer = optim.SGD(linear_model.parameters(), lr=1e-2)\n",
        "\n",
        "training_loop(\n",
        "    n_epochs = 3000, \n",
        "    optimizer = optimizer,\n",
        "    model = linear_model,\n",
        "    loss_fn = nn.MSELoss(), # <1>\n",
        "    t_u_train = t_un_train,\n",
        "    t_u_val = t_un_val, \n",
        "    t_c_train = t_c_train,\n",
        "    t_c_val = t_c_val)\n",
        "\n",
        "print()\n",
        "print(linear_model.weight)\n",
        "print(linear_model.bias)"
      ],
      "execution_count": 23,
      "outputs": [
        {
          "output_type": "stream",
          "text": [
            "Epoch 1, Training loss 205.7362, Validation loss 604.8312\n",
            "Epoch 1000, Training loss 4.3064, Validation loss 9.8909\n",
            "Epoch 2000, Training loss 3.2120, Validation loss 3.9547\n",
            "Epoch 3000, Training loss 3.1604, Validation loss 3.0288\n",
            "\n",
            "Parameter containing:\n",
            "tensor([[5.0921]], requires_grad=True)\n",
            "Parameter containing:\n",
            "tensor([-15.9909], requires_grad=True)\n"
          ],
          "name": "stdout"
        }
      ]
    },
    {
      "cell_type": "code",
      "metadata": {
        "id": "TDxJWqI_nTep",
        "colab_type": "code",
        "colab": {
          "base_uri": "https://localhost:8080/",
          "height": 102
        },
        "outputId": "598e6f7c-7ee1-44e3-c492-83824826c3d9"
      },
      "source": [
        "seq_model = nn.Sequential(\n",
        "            nn.Linear(1, 13), # <1>\n",
        "            nn.Tanh(),\n",
        "            nn.Linear(13, 1)) # <2>\n",
        "seq_model"
      ],
      "execution_count": 31,
      "outputs": [
        {
          "output_type": "execute_result",
          "data": {
            "text/plain": [
              "Sequential(\n",
              "  (0): Linear(in_features=1, out_features=13, bias=True)\n",
              "  (1): Tanh()\n",
              "  (2): Linear(in_features=13, out_features=1, bias=True)\n",
              ")"
            ]
          },
          "metadata": {
            "tags": []
          },
          "execution_count": 31
        }
      ]
    },
    {
      "cell_type": "code",
      "metadata": {
        "id": "xZSgsdx9nTer",
        "colab_type": "code",
        "colab": {
          "base_uri": "https://localhost:8080/",
          "height": 34
        },
        "outputId": "1a52a060-53f1-434c-c43a-64ab8a630d1a"
      },
      "source": [
        "[param.shape for param in seq_model.parameters()]"
      ],
      "execution_count": 32,
      "outputs": [
        {
          "output_type": "execute_result",
          "data": {
            "text/plain": [
              "[torch.Size([13, 1]), torch.Size([13]), torch.Size([1, 13]), torch.Size([1])]"
            ]
          },
          "metadata": {
            "tags": []
          },
          "execution_count": 32
        }
      ]
    },
    {
      "cell_type": "code",
      "metadata": {
        "id": "RWMOiizUU4PY",
        "colab_type": "code",
        "colab": {
          "base_uri": "https://localhost:8080/",
          "height": 425
        },
        "outputId": "acd655d0-a867-43e2-ae63-dd38a738283f"
      },
      "source": [
        "for name,param in seq_model.named_parameters():\n",
        "  print(name,param)"
      ],
      "execution_count": 33,
      "outputs": [
        {
          "output_type": "stream",
          "text": [
            "0.weight Parameter containing:\n",
            "tensor([[-0.5343],\n",
            "        [ 0.4832],\n",
            "        [ 0.0090],\n",
            "        [ 0.6498],\n",
            "        [ 0.2978],\n",
            "        [-0.8218],\n",
            "        [ 0.2097],\n",
            "        [-0.5575],\n",
            "        [-0.7936],\n",
            "        [-0.5869],\n",
            "        [-0.3022],\n",
            "        [-0.1506],\n",
            "        [-0.4298]], requires_grad=True)\n",
            "0.bias Parameter containing:\n",
            "tensor([ 0.6925,  0.9252, -0.5942, -0.1379, -0.7643, -0.3684,  0.9734,\n",
            "         0.3937,  0.2556, -0.8435,  0.8672,  0.2626,  0.2313],\n",
            "       requires_grad=True)\n",
            "2.weight Parameter containing:\n",
            "tensor([[-0.0316, -0.2679,  0.1318,  0.1012,  0.2747,  0.1555, -0.2426,\n",
            "          0.1906, -0.0348, -0.1221, -0.1624, -0.1799, -0.0300]],\n",
            "       requires_grad=True)\n",
            "2.bias Parameter containing:\n",
            "tensor([-0.0537], requires_grad=True)\n"
          ],
          "name": "stdout"
        }
      ]
    },
    {
      "cell_type": "code",
      "metadata": {
        "id": "QRJdSDmYnTew",
        "colab_type": "code",
        "colab": {
          "base_uri": "https://localhost:8080/",
          "height": 85
        },
        "outputId": "f24470e1-5aa6-4f8e-f88d-6917f7c14567"
      },
      "source": [
        "for name, param in seq_model.named_parameters():\n",
        "    print(name, param.shape)"
      ],
      "execution_count": 27,
      "outputs": [
        {
          "output_type": "stream",
          "text": [
            "0.weight torch.Size([13, 1])\n",
            "0.bias torch.Size([13])\n",
            "2.weight torch.Size([1, 13])\n",
            "2.bias torch.Size([1])\n"
          ],
          "name": "stdout"
        }
      ]
    },
    {
      "cell_type": "code",
      "metadata": {
        "id": "_8RBLvfeWgRm",
        "colab_type": "code",
        "colab": {
          "base_uri": "https://localhost:8080/",
          "height": 102
        },
        "outputId": "07a0da4d-7b73-419e-b052-e0b4620bdfe7"
      },
      "source": [
        "seq_model = nn.Sequential(\n",
        "            nn.Linear(2, 13), # <1>\n",
        "            nn.Tanh(),\n",
        "            nn.Linear(13, 3)) # <2>\n",
        "seq_model"
      ],
      "execution_count": 28,
      "outputs": [
        {
          "output_type": "execute_result",
          "data": {
            "text/plain": [
              "Sequential(\n",
              "  (0): Linear(in_features=2, out_features=13, bias=True)\n",
              "  (1): Tanh()\n",
              "  (2): Linear(in_features=13, out_features=3, bias=True)\n",
              ")"
            ]
          },
          "metadata": {
            "tags": []
          },
          "execution_count": 28
        }
      ]
    },
    {
      "cell_type": "code",
      "metadata": {
        "id": "tx4g4xuqWpXf",
        "colab_type": "code",
        "colab": {
          "base_uri": "https://localhost:8080/",
          "height": 85
        },
        "outputId": "590f8ea9-ca41-47a3-aab4-950e34c61030"
      },
      "source": [
        "for name, param in seq_model.named_parameters():\n",
        "    print(name, param.shape)"
      ],
      "execution_count": 29,
      "outputs": [
        {
          "output_type": "stream",
          "text": [
            "0.weight torch.Size([13, 2])\n",
            "0.bias torch.Size([13])\n",
            "2.weight torch.Size([3, 13])\n",
            "2.bias torch.Size([3])\n"
          ],
          "name": "stdout"
        }
      ]
    },
    {
      "cell_type": "code",
      "metadata": {
        "id": "oEivolXPWucG",
        "colab_type": "code",
        "colab": {
          "base_uri": "https://localhost:8080/",
          "height": 493
        },
        "outputId": "68ab83ec-0ed4-480f-a85b-5aee908f5947"
      },
      "source": [
        "for name, param in seq_model.named_parameters():\n",
        "    print(name, param)"
      ],
      "execution_count": 30,
      "outputs": [
        {
          "output_type": "stream",
          "text": [
            "0.weight Parameter containing:\n",
            "tensor([[ 0.0360,  0.4464],\n",
            "        [-0.6360,  0.5676],\n",
            "        [ 0.6595,  0.6822],\n",
            "        [-0.5849,  0.3617],\n",
            "        [-0.3244, -0.5055],\n",
            "        [ 0.1098, -0.2041],\n",
            "        [ 0.2160, -0.0240],\n",
            "        [-0.2529,  0.4311],\n",
            "        [-0.0726,  0.3453],\n",
            "        [-0.5125,  0.5434],\n",
            "        [ 0.5118,  0.1598],\n",
            "        [-0.1864,  0.3616],\n",
            "        [ 0.6097,  0.6114]], requires_grad=True)\n",
            "0.bias Parameter containing:\n",
            "tensor([ 0.2667,  0.3350,  0.3862,  0.2085, -0.2240,  0.1362,  0.1011,\n",
            "         0.3063,  0.0019,  0.4141, -0.1121, -0.4885,  0.5891],\n",
            "       requires_grad=True)\n",
            "2.weight Parameter containing:\n",
            "tensor([[-0.2256,  0.1184, -0.1238,  0.2086, -0.1261,  0.1287,  0.2659,\n",
            "         -0.0437, -0.2654,  0.2048,  0.2527,  0.0043,  0.1849],\n",
            "        [-0.0595,  0.2733,  0.1653, -0.2593,  0.2648, -0.2040,  0.2201,\n",
            "         -0.2551,  0.0209,  0.2740,  0.0819, -0.0354,  0.2263],\n",
            "        [ 0.1414, -0.1665,  0.1688,  0.2481, -0.1217,  0.2328,  0.1634,\n",
            "         -0.0006,  0.0076,  0.0629,  0.0827, -0.1202,  0.2364]],\n",
            "       requires_grad=True)\n",
            "2.bias Parameter containing:\n",
            "tensor([-0.1101, -0.0610,  0.2121], requires_grad=True)\n"
          ],
          "name": "stdout"
        }
      ]
    },
    {
      "cell_type": "code",
      "metadata": {
        "id": "1bCp6U6gnTe0",
        "colab_type": "code",
        "colab": {
          "base_uri": "https://localhost:8080/",
          "height": 102
        },
        "outputId": "28adba5c-a4aa-41e0-caa1-a7f3d7b0a475"
      },
      "source": [
        "from collections import OrderedDict\n",
        "\n",
        "seq_model = nn.Sequential(OrderedDict([\n",
        "    ('hidden_linear', nn.Linear(1, 8)),\n",
        "    ('hidden_activation', nn.Tanh()),\n",
        "    ('output_linear', nn.Linear(8, 1))\n",
        "]))\n",
        "\n",
        "seq_model"
      ],
      "execution_count": 31,
      "outputs": [
        {
          "output_type": "execute_result",
          "data": {
            "text/plain": [
              "Sequential(\n",
              "  (hidden_linear): Linear(in_features=1, out_features=8, bias=True)\n",
              "  (hidden_activation): Tanh()\n",
              "  (output_linear): Linear(in_features=8, out_features=1, bias=True)\n",
              ")"
            ]
          },
          "metadata": {
            "tags": []
          },
          "execution_count": 31
        }
      ]
    },
    {
      "cell_type": "code",
      "metadata": {
        "id": "u-cpeb9_nTe3",
        "colab_type": "code",
        "colab": {
          "base_uri": "https://localhost:8080/",
          "height": 85
        },
        "outputId": "c84df0cb-b34b-48ce-ea1a-5d7270b89094"
      },
      "source": [
        "for name, param in seq_model.named_parameters():\n",
        "    print(name, param.shape)"
      ],
      "execution_count": 32,
      "outputs": [
        {
          "output_type": "stream",
          "text": [
            "hidden_linear.weight torch.Size([8, 1])\n",
            "hidden_linear.bias torch.Size([8])\n",
            "output_linear.weight torch.Size([1, 8])\n",
            "output_linear.bias torch.Size([1])\n"
          ],
          "name": "stdout"
        }
      ]
    },
    {
      "cell_type": "code",
      "metadata": {
        "id": "VTEnicB3nTe6",
        "colab_type": "code",
        "colab": {
          "base_uri": "https://localhost:8080/",
          "height": 51
        },
        "outputId": "331dfe39-f7cb-467b-9525-8288fb24f7aa"
      },
      "source": [
        "seq_model.output_linear.bias"
      ],
      "execution_count": 33,
      "outputs": [
        {
          "output_type": "execute_result",
          "data": {
            "text/plain": [
              "Parameter containing:\n",
              "tensor([0.0666], requires_grad=True)"
            ]
          },
          "metadata": {
            "tags": []
          },
          "execution_count": 33
        }
      ]
    },
    {
      "cell_type": "code",
      "metadata": {
        "id": "01cl-HNynTe-",
        "colab_type": "code",
        "colab": {
          "base_uri": "https://localhost:8080/",
          "height": 323
        },
        "outputId": "e96f9928-9cdf-4c77-d9d1-b997342e0383"
      },
      "source": [
        "optimizer = optim.SGD(seq_model.parameters(), lr=1e-3) # <1>\n",
        "\n",
        "training_loop(\n",
        "    n_epochs = 5000, \n",
        "    optimizer = optimizer,\n",
        "    model = seq_model,\n",
        "    loss_fn = nn.MSELoss(),\n",
        "    t_u_train = t_un_train,\n",
        "    t_u_val = t_un_val, \n",
        "    t_c_train = t_c_train,\n",
        "    t_c_val = t_c_val)\n",
        "    \n",
        "print('output', seq_model(t_un_val))\n",
        "print('answer', t_c_val)\n",
        "print('hidden', seq_model.hidden_linear.weight.grad)"
      ],
      "execution_count": 34,
      "outputs": [
        {
          "output_type": "stream",
          "text": [
            "Epoch 1, Training loss 168.5923, Validation loss 209.0068\n",
            "Epoch 1000, Training loss 6.0705, Validation loss 3.8531\n",
            "Epoch 2000, Training loss 3.9766, Validation loss 1.4481\n",
            "Epoch 3000, Training loss 2.1722, Validation loss 1.4434\n",
            "Epoch 4000, Training loss 1.8676, Validation loss 2.3160\n",
            "Epoch 5000, Training loss 1.8046, Validation loss 2.4530\n",
            "output tensor([[20.6486],\n",
            "        [ 2.6870]], grad_fn=<AddmmBackward>)\n",
            "answer tensor([[21.0000],\n",
            "        [ 0.5000]])\n",
            "hidden tensor([[ 0.0026],\n",
            "        [-0.0021],\n",
            "        [-0.0525],\n",
            "        [-0.0033],\n",
            "        [-0.0351],\n",
            "        [-0.0001],\n",
            "        [-0.0077],\n",
            "        [ 0.0181]])\n"
          ],
          "name": "stdout"
        }
      ]
    },
    {
      "cell_type": "code",
      "metadata": {
        "scrolled": true,
        "id": "Jj5Nd9UCnTfA",
        "colab_type": "code",
        "colab": {
          "base_uri": "https://localhost:8080/",
          "height": 781
        },
        "outputId": "70913111-ccf9-4eef-faf5-611415e8e839"
      },
      "source": [
        "from matplotlib import pyplot as plt\n",
        "\n",
        "t_range = torch.arange(20., 90.).unsqueeze(1)\n",
        "\n",
        "fig = plt.figure(dpi=600)\n",
        "plt.xlabel(\"Fahrenheit\")\n",
        "plt.ylabel(\"Celsius\")\n",
        "plt.plot(t_u.numpy(), t_c.numpy(), 'o')\n",
        "plt.plot(t_range.numpy(), seq_model(0.1 * t_range).detach().numpy(), 'c-')\n",
        "plt.plot(t_u.numpy(), seq_model(0.1 * t_u).detach().numpy(), 'kx')\n"
      ],
      "execution_count": 35,
      "outputs": [
        {
          "output_type": "execute_result",
          "data": {
            "text/plain": [
              "[<matplotlib.lines.Line2D at 0x7fc5f6b32588>]"
            ]
          },
          "metadata": {
            "tags": []
          },
          "execution_count": 35
        },
        {
          "output_type": "display_data",
          "data": {
            "image/png": "[encoded data removed]",
            "text/plain": [
              "<Figure size 3600x2400 with 1 Axes>"
            ]
          },
          "metadata": {
            "tags": [],
            "needs_background": "light"
          }
        }
      ]
    },
    {
      "cell_type": "code",
      "metadata": {
        "id": "G9NR7L0AnTfC",
        "colab_type": "code",
        "colab": {
          "base_uri": "https://localhost:8080/",
          "height": 681
        },
        "outputId": "55ca098c-ed87-4cb4-8bdc-f0a77c270d70"
      },
      "source": [
        "# Exercises here!\n",
        "\n",
        "neuron_count = 20\n",
        "\n",
        "seq_model = nn.Sequential(OrderedDict([\n",
        "    ('hidden_linear', nn.Linear(1, neuron_count)),\n",
        "    ('hidden_activation', nn.Tanh()),\n",
        "    ('output_linear', nn.Linear(neuron_count, 1))\n",
        "]))\n",
        "\n",
        "optimizer = optim.SGD(seq_model.parameters(), lr=1e-4)\n",
        "\n",
        "training_loop(\n",
        "    n_epochs = 5000, \n",
        "    optimizer = optimizer,\n",
        "    model = seq_model,\n",
        "    loss_fn = nn.MSELoss(),\n",
        "    t_u_train = t_un_train,\n",
        "    t_u_val = t_un_val, \n",
        "    t_c_train = t_c_train,\n",
        "    t_c_val = t_c_val)\n",
        "\n",
        "from matplotlib import pyplot as plt\n",
        "\n",
        "t_range = torch.arange(20., 90.).unsqueeze(1)\n",
        "\n",
        "fig = plt.figure(dpi=150)\n",
        "plt.xlabel(\"Fahrenheit\")\n",
        "plt.ylabel(\"Celsius\")\n",
        "plt.plot(t_u.numpy(), t_c.numpy(), 'o')\n",
        "plt.plot(t_range.numpy(), seq_model(0.1 * t_range).detach().numpy(), 'c-')\n",
        "plt.plot(t_u.numpy(), seq_model(0.1 * t_u).detach().numpy(), 'kx')\n"
      ],
      "execution_count": 36,
      "outputs": [
        {
          "output_type": "stream",
          "text": [
            "Epoch 1, Training loss 167.9533, Validation loss 208.2498\n",
            "Epoch 1000, Training loss 50.8231, Validation loss 79.8687\n",
            "Epoch 2000, Training loss 37.2823, Validation loss 59.1703\n",
            "Epoch 3000, Training loss 25.5405, Validation loss 40.1606\n",
            "Epoch 4000, Training loss 16.6218, Validation loss 24.6681\n",
            "Epoch 5000, Training loss 11.2756, Validation loss 15.1006\n"
          ],
          "name": "stdout"
        },
        {
          "output_type": "execute_result",
          "data": {
            "text/plain": [
              "[<matplotlib.lines.Line2D at 0x7fc5f4e1c908>]"
            ]
          },
          "metadata": {
            "tags": []
          },
          "execution_count": 36
        },
        {
          "output_type": "display_data",
          "data": {
            "image/png": "[encoded data removed]",
            "text/plain": [
              "<Figure size 900x600 with 1 Axes>"
            ]
          },
          "metadata": {
            "tags": [],
            "needs_background": "light"
          }
        }
      ]
    },
    {
      "cell_type": "code",
      "metadata": {
        "id": "KXiTZNGVnTfF",
        "colab_type": "code",
        "colab": {}
      },
      "source": [
        ""
      ],
      "execution_count": null,
      "outputs": []
    }
  ]
}