{
  "nbformat": 4,
  "nbformat_minor": 0,
  "metadata": {
    "kernelspec": {
      "display_name": "Python 3",
      "language": "python",
      "name": "python3"
    },
    "language_info": {
      "codemirror_mode": {
        "name": "ipython",
        "version": 3
      },
      "file_extension": ".py",
      "mimetype": "text/x-python",
      "name": "python",
      "nbconvert_exporter": "python",
      "pygments_lexer": "ipython3",
      "version": "3.7.6"
    },
    "colab": {
      "name": "4_time_series_bikes.ipynb",
      "provenance": []
    }
  },
  "cells": [
    {
      "cell_type": "code",
      "metadata": {
        "id": "hIU4wSNRlYGA",
        "colab_type": "code",
        "colab": {}
      },
      "source": [
        "import numpy as np\n",
        "import torch\n",
        "torch.set_printoptions(edgeitems=2, threshold=50, linewidth=75)"
      ],
      "execution_count": 1,
      "outputs": []
    },
    {
      "cell_type": "code",
      "metadata": {
        "id": "h86np0z_lYGE",
        "colab_type": "code",
        "colab": {
          "base_uri": "https://localhost:8080/",
          "height": 102
        },
        "outputId": "42ae95ce-287e-4f8f-ef80-b2ce3fda0e5a"
      },
      "source": [
        "bikes_numpy = np.loadtxt(\n",
        "    \"https://raw.githubusercontent.com/duybluemind1988/dlwpt-code/master/data/p1ch4/bike-sharing-dataset/hour-fixed.csv\", \n",
        "    dtype=np.float32, \n",
        "    delimiter=\",\", \n",
        "    skiprows=1, \n",
        "    converters={1: lambda x: float(x[8:10])}) # <1>\n",
        "bikes = torch.from_numpy(bikes_numpy)\n",
        "bikes"
      ],
      "execution_count": 2,
      "outputs": [
        {
          "output_type": "execute_result",
          "data": {
            "text/plain": [
              "tensor([[1.0000e+00, 1.0000e+00,  ..., 1.3000e+01, 1.6000e+01],\n",
              "        [2.0000e+00, 1.0000e+00,  ..., 3.2000e+01, 4.0000e+01],\n",
              "        ...,\n",
              "        [1.7378e+04, 3.1000e+01,  ..., 4.8000e+01, 6.1000e+01],\n",
              "        [1.7379e+04, 3.1000e+01,  ..., 3.7000e+01, 4.9000e+01]])"
            ]
          },
          "metadata": {
            "tags": []
          },
          "execution_count": 2
        }
      ]
    },
    {
      "cell_type": "code",
      "metadata": {
        "scrolled": true,
        "id": "RQaUVzXslYGH",
        "colab_type": "code",
        "colab": {
          "base_uri": "https://localhost:8080/",
          "height": 34
        },
        "outputId": "611b88d5-8562-4104-f111-221213c8797a"
      },
      "source": [
        "bikes.shape, bikes.stride()"
      ],
      "execution_count": 3,
      "outputs": [
        {
          "output_type": "execute_result",
          "data": {
            "text/plain": [
              "(torch.Size([17520, 17]), (17, 1))"
            ]
          },
          "metadata": {
            "tags": []
          },
          "execution_count": 3
        }
      ]
    },
    {
      "cell_type": "markdown",
      "metadata": {
        "id": "yNOMLJC8oWLD",
        "colab_type": "text"
      },
      "source": [
        "We might want to break up the two-year dataset into wider observation periods, like\n",
        "days. This way we’ll have N (for number of samples) collections of C sequences of length\n",
        "L. In other words, our time series dataset would be a tensor of dimension 3 and shape\n",
        "N × C × L. The C would remain our 17 channels, while L would be 24: 1 per hour of\n",
        "the day. There’s no particular reason why we must use chunks of 24 hours, though the\n",
        "general daily rhythm is likely to give us patterns we can exploit for predictions. We\n",
        "could also use 7 × 24 = 168 hour blocks to chunk by week instead, if we desired. All of\n",
        "this depends, naturally, on our dataset having the right size—the number of rows must\n",
        "be a multiple of 24 or 168. Also, for this to make sense, we cannot have gaps in the\n",
        "time series"
      ]
    },
    {
      "cell_type": "markdown",
      "metadata": {
        "id": "Il_CsSvkqtzu",
        "colab_type": "text"
      },
      "source": [
        "As you learned in the previous chapter, calling view on a tensor returns a new tensor that changes the number of dimensions and the striding information, without\n",
        "changing the storage. This means we can rearrange our tensor at basically zero cost,\n",
        "because no data will be copied. Our call to view requires us to provide the new shape\n",
        "for the returned tensor. We use -1 as a placeholder for “however many indexes are\n",
        "left, given the other dimensions and the original number of elements."
      ]
    },
    {
      "cell_type": "code",
      "metadata": {
        "id": "Ib3HsJ1iqUfM",
        "colab_type": "code",
        "colab": {
          "base_uri": "https://localhost:8080/",
          "height": 34
        },
        "outputId": "165df6aa-884b-4b44-dae7-1c874fc9068c"
      },
      "source": [
        "bikes.shape[1]"
      ],
      "execution_count": 6,
      "outputs": [
        {
          "output_type": "execute_result",
          "data": {
            "text/plain": [
              "17"
            ]
          },
          "metadata": {
            "tags": []
          },
          "execution_count": 6
        }
      ]
    },
    {
      "cell_type": "code",
      "metadata": {
        "id": "OnIHBab-lYGK",
        "colab_type": "code",
        "colab": {
          "base_uri": "https://localhost:8080/",
          "height": 442
        },
        "outputId": "850b3cd2-5e70-4de5-e5e2-ea7af746bae7"
      },
      "source": [
        "daily_bikes = bikes.view(-1, 24, bikes.shape[1])\n",
        "daily_bikes"
      ],
      "execution_count": 4,
      "outputs": [
        {
          "output_type": "execute_result",
          "data": {
            "text/plain": [
              "tensor([[[1.0000e+00, 1.0000e+00,  ..., 1.3000e+01, 1.6000e+01],\n",
              "         [2.0000e+00, 1.0000e+00,  ..., 3.2000e+01, 4.0000e+01],\n",
              "         ...,\n",
              "         [2.3000e+01, 1.0000e+00,  ..., 1.7000e+01, 2.8000e+01],\n",
              "         [2.4000e+01, 1.0000e+00,  ..., 2.4000e+01, 3.9000e+01]],\n",
              "\n",
              "        [[2.5000e+01, 2.0000e+00,  ..., 1.3000e+01, 1.7000e+01],\n",
              "         [2.6000e+01, 2.0000e+00,  ..., 1.6000e+01, 1.7000e+01],\n",
              "         ...,\n",
              "         [4.6000e+01, 2.0000e+00,  ..., 9.0000e+00, 9.0000e+00],\n",
              "         [4.7000e+01, 2.0000e+00,  ..., 8.0000e+00, 8.0000e+00]],\n",
              "\n",
              "        ...,\n",
              "\n",
              "        [[1.7332e+04, 3.0000e+01,  ..., 4.1000e+01, 4.1000e+01],\n",
              "         [1.7333e+04, 3.0000e+01,  ..., 2.7000e+01, 2.8000e+01],\n",
              "         ...,\n",
              "         [1.7354e+04, 3.0000e+01,  ..., 3.0000e+01, 3.6000e+01],\n",
              "         [1.7355e+04, 3.0000e+01,  ..., 3.9000e+01, 4.9000e+01]],\n",
              "\n",
              "        [[1.7356e+04, 3.1000e+01,  ..., 3.0000e+01, 3.4000e+01],\n",
              "         [1.7357e+04, 3.1000e+01,  ..., 1.3000e+01, 1.9000e+01],\n",
              "         ...,\n",
              "         [1.7378e+04, 3.1000e+01,  ..., 4.8000e+01, 6.1000e+01],\n",
              "         [1.7379e+04, 3.1000e+01,  ..., 3.7000e+01, 4.9000e+01]]])"
            ]
          },
          "metadata": {
            "tags": []
          },
          "execution_count": 4
        }
      ]
    },
    {
      "cell_type": "markdown",
      "metadata": {
        "id": "TVbmeeR6rDgD",
        "colab_type": "text"
      },
      "source": [
        "For daily_bikes, the stride is telling us that advancing by 1 along the hour dimension (the second dimension) requires us to advance by 17 places in the storage (or\n",
        "one set of columns); whereas advancing along the day dimension (the first dimension) requires us to advance by a number of elements equal to the length of a row in\n",
        "the storage times 24 (here, 408, which is 17 × 24)"
      ]
    },
    {
      "cell_type": "code",
      "metadata": {
        "id": "ZogOlF2YlvMn",
        "colab_type": "code",
        "colab": {
          "base_uri": "https://localhost:8080/",
          "height": 34
        },
        "outputId": "25f67588-65a8-45a7-c00b-4e65eb49cdc4"
      },
      "source": [
        "daily_bikes.shape, daily_bikes.stride()\n",
        "# 24 * 17 = 408"
      ],
      "execution_count": 5,
      "outputs": [
        {
          "output_type": "execute_result",
          "data": {
            "text/plain": [
              "(torch.Size([730, 24, 17]), (408, 17, 1))"
            ]
          },
          "metadata": {
            "tags": []
          },
          "execution_count": 5
        }
      ]
    },
    {
      "cell_type": "markdown",
      "metadata": {
        "id": "jx8LxyDasWgL",
        "colab_type": "text"
      },
      "source": [
        "We see that the rightmost dimension is the number of columns in the original\n",
        "dataset. Then, in the middle dimension, we have time, split into chunks of 24 sequential hours. In other words, we now have N sequences of L hours in a day, for C channels. To get to our desired N × C × L ordering, we need to transpose the tensor:"
      ]
    },
    {
      "cell_type": "code",
      "metadata": {
        "id": "CsdquKFOlYGN",
        "colab_type": "code",
        "colab": {
          "base_uri": "https://localhost:8080/",
          "height": 34
        },
        "outputId": "13c3100d-afe5-4afa-e494-e62665c2134c"
      },
      "source": [
        "daily_bikes = daily_bikes.transpose(1, 2)\n",
        "daily_bikes.shape, daily_bikes.stride()"
      ],
      "execution_count": 7,
      "outputs": [
        {
          "output_type": "execute_result",
          "data": {
            "text/plain": [
              "(torch.Size([730, 17, 24]), (408, 1, 17))"
            ]
          },
          "metadata": {
            "tags": []
          },
          "execution_count": 7
        }
      ]
    },
    {
      "cell_type": "code",
      "metadata": {
        "id": "9K9u5Hdwsc9T",
        "colab_type": "code",
        "colab": {
          "base_uri": "https://localhost:8080/",
          "height": 119
        },
        "outputId": "cec042db-bbc4-4575-ebcc-0929eed24209"
      },
      "source": [
        "first_day = bikes[:24].long()\n",
        "print(first_day.shape)\n",
        "first_day"
      ],
      "execution_count": 9,
      "outputs": [
        {
          "output_type": "stream",
          "text": [
            "torch.Size([24, 17])\n"
          ],
          "name": "stdout"
        },
        {
          "output_type": "execute_result",
          "data": {
            "text/plain": [
              "tensor([[ 1,  1,  ..., 13, 16],\n",
              "        [ 2,  1,  ..., 32, 40],\n",
              "        ...,\n",
              "        [23,  1,  ..., 17, 28],\n",
              "        [24,  1,  ..., 24, 39]])"
            ]
          },
          "metadata": {
            "tags": []
          },
          "execution_count": 9
        }
      ]
    },
    {
      "cell_type": "code",
      "metadata": {
        "id": "OXLw66-TsoMC",
        "colab_type": "code",
        "colab": {
          "base_uri": "https://localhost:8080/",
          "height": 119
        },
        "outputId": "676ef226-a1b8-4d1b-d36e-6812d00c7066"
      },
      "source": [
        "weather_onehot = torch.zeros(first_day.shape[0], 4)\n",
        "print(weather_onehot.shape)\n",
        "weather_onehot"
      ],
      "execution_count": 11,
      "outputs": [
        {
          "output_type": "stream",
          "text": [
            "torch.Size([24, 4])\n"
          ],
          "name": "stdout"
        },
        {
          "output_type": "execute_result",
          "data": {
            "text/plain": [
              "tensor([[0., 0., 0., 0.],\n",
              "        [0., 0., 0., 0.],\n",
              "        ...,\n",
              "        [0., 0., 0., 0.],\n",
              "        [0., 0., 0., 0.]])"
            ]
          },
          "metadata": {
            "tags": []
          },
          "execution_count": 11
        }
      ]
    },
    {
      "cell_type": "markdown",
      "metadata": {
        "id": "lgDi7IkEs0r5",
        "colab_type": "text"
      },
      "source": [
        "The “weather situation” variable is ordinal. It has four levels: 1 for good weather, and 4\n",
        "for, er, really bad. We could treat this variable as categorical, with levels interpreted as\n",
        "labels, or as a continuous variable"
      ]
    },
    {
      "cell_type": "code",
      "metadata": {
        "id": "u6qTW4GFlYGQ",
        "colab_type": "code",
        "colab": {
          "base_uri": "https://localhost:8080/",
          "height": 51
        },
        "outputId": "11a1b0de-1a80-4f8e-c52f-0882f6922c46"
      },
      "source": [
        "first_day[:,9] # wether column"
      ],
      "execution_count": 12,
      "outputs": [
        {
          "output_type": "execute_result",
          "data": {
            "text/plain": [
              "tensor([1, 1, 1, 1, 1, 2, 1, 1, 1, 1, 1, 1, 1, 2, 2, 2, 2, 2, 3, 3, 2, 2,\n",
              "        2, 2])"
            ]
          },
          "metadata": {
            "tags": []
          },
          "execution_count": 12
        }
      ]
    },
    {
      "cell_type": "code",
      "metadata": {
        "id": "dpxkbjb-lYGS",
        "colab_type": "code",
        "colab": {
          "base_uri": "https://localhost:8080/",
          "height": 102
        },
        "outputId": "9eaed20e-607e-4b64-86b8-29d9256ebbdf"
      },
      "source": [
        "weather_onehot.scatter_(\n",
        "    dim=1, \n",
        "    index=first_day[:,9].unsqueeze(1).long() - 1, # <1>\n",
        "    value=1.0)"
      ],
      "execution_count": 13,
      "outputs": [
        {
          "output_type": "execute_result",
          "data": {
            "text/plain": [
              "tensor([[1., 0., 0., 0.],\n",
              "        [1., 0., 0., 0.],\n",
              "        ...,\n",
              "        [0., 1., 0., 0.],\n",
              "        [0., 1., 0., 0.]])"
            ]
          },
          "metadata": {
            "tags": []
          },
          "execution_count": 13
        }
      ]
    },
    {
      "cell_type": "code",
      "metadata": {
        "id": "hM5FTtHjtjkP",
        "colab_type": "code",
        "colab": {
          "base_uri": "https://localhost:8080/",
          "height": 119
        },
        "outputId": "6e937a05-0cc8-4bac-8ec8-fdb8982cd231"
      },
      "source": [
        "print(bikes[:24].shape)\n",
        "bikes[:24]"
      ],
      "execution_count": 17,
      "outputs": [
        {
          "output_type": "stream",
          "text": [
            "torch.Size([24, 17])\n"
          ],
          "name": "stdout"
        },
        {
          "output_type": "execute_result",
          "data": {
            "text/plain": [
              "tensor([[ 1.,  1.,  ..., 13., 16.],\n",
              "        [ 2.,  1.,  ..., 32., 40.],\n",
              "        ...,\n",
              "        [23.,  1.,  ..., 17., 28.],\n",
              "        [24.,  1.,  ..., 24., 39.]])"
            ]
          },
          "metadata": {
            "tags": []
          },
          "execution_count": 17
        }
      ]
    },
    {
      "cell_type": "markdown",
      "metadata": {
        "id": "VTTa_YtJtvyM",
        "colab_type": "text"
      },
      "source": [
        "Last, we concatenate our matrix to our original dataset using the cat function.\n",
        "Let’s look at the first of our results:"
      ]
    },
    {
      "cell_type": "code",
      "metadata": {
        "id": "2QzGXw-Cto9U",
        "colab_type": "code",
        "colab": {
          "base_uri": "https://localhost:8080/",
          "height": 119
        },
        "outputId": "115a4983-06d8-4347-b76d-3c7f4219a71d"
      },
      "source": [
        "print(torch.cat((bikes[:24], weather_onehot), 1).shape)\n",
        "torch.cat((bikes[:24], weather_onehot), 1)"
      ],
      "execution_count": 18,
      "outputs": [
        {
          "output_type": "stream",
          "text": [
            "torch.Size([24, 21])\n"
          ],
          "name": "stdout"
        },
        {
          "output_type": "execute_result",
          "data": {
            "text/plain": [
              "tensor([[ 1.,  1.,  ...,  0.,  0.],\n",
              "        [ 2.,  1.,  ...,  0.,  0.],\n",
              "        ...,\n",
              "        [23.,  1.,  ...,  0.,  0.],\n",
              "        [24.,  1.,  ...,  0.,  0.]])"
            ]
          },
          "metadata": {
            "tags": []
          },
          "execution_count": 18
        }
      ]
    },
    {
      "cell_type": "code",
      "metadata": {
        "id": "uM9cxMsAlYGW",
        "colab_type": "code",
        "colab": {
          "base_uri": "https://localhost:8080/",
          "height": 68
        },
        "outputId": "79563a7a-cf69-4590-882d-e19d6ff5fac0"
      },
      "source": [
        "torch.cat((bikes[:24], weather_onehot), 1)[:1]"
      ],
      "execution_count": 14,
      "outputs": [
        {
          "output_type": "execute_result",
          "data": {
            "text/plain": [
              "tensor([[ 1.0000,  1.0000,  1.0000,  0.0000,  1.0000,  0.0000,  0.0000,\n",
              "          6.0000,  0.0000,  1.0000,  0.2400,  0.2879,  0.8100,  0.0000,\n",
              "          3.0000, 13.0000, 16.0000,  1.0000,  0.0000,  0.0000,  0.0000]])"
            ]
          },
          "metadata": {
            "tags": []
          },
          "execution_count": 14
        }
      ]
    },
    {
      "cell_type": "markdown",
      "metadata": {
        "id": "5ICjLNWqutzI",
        "colab_type": "text"
      },
      "source": [
        "Here we prescribed our original bikes dataset and our one-hot-encoded “weather situation” matrix to be concatenated along the column dimension (that is, 1). In other\n",
        "words, the columns of the two datasets are stacked together; or, equivalently, the new\n",
        "one-hot-encoded columns are appended to the original dataset. For cat to succeed, it\n",
        "is required that the tensors have the same size along the other dimensions—the row\n",
        "dimension, in this case. Note that our new last four columns are 1, 0, 0, 0, exactly\n",
        "as we would expect with a weather value of 1.\n",
        "We could have done the same with the reshaped daily_bikes tensor. Remember\n",
        "that it is shaped (B, C, L), where L = 24. We first create the zero tensor, with the same\n",
        "B and L, but with the number of additional columns as C:"
      ]
    },
    {
      "cell_type": "code",
      "metadata": {
        "id": "aGpsWZMguv20",
        "colab_type": "code",
        "colab": {
          "base_uri": "https://localhost:8080/",
          "height": 34
        },
        "outputId": "10a67a09-1af5-475b-a2f6-8375ce00c4ee"
      },
      "source": [
        "daily_bikes.shape # 730 days, 17 features each day, 24 hour each features"
      ],
      "execution_count": 19,
      "outputs": [
        {
          "output_type": "execute_result",
          "data": {
            "text/plain": [
              "torch.Size([730, 17, 24])"
            ]
          },
          "metadata": {
            "tags": []
          },
          "execution_count": 19
        }
      ]
    },
    {
      "cell_type": "code",
      "metadata": {
        "id": "GnqIKHxWlYGY",
        "colab_type": "code",
        "colab": {
          "base_uri": "https://localhost:8080/",
          "height": 391
        },
        "outputId": "3a6c4d3d-46ee-4ea4-960d-49aaa29af73d"
      },
      "source": [
        "daily_weather_onehot = torch.zeros(daily_bikes.shape[0], 4,\n",
        "                                   daily_bikes.shape[2])\n",
        "print(daily_weather_onehot.shape)\n",
        "daily_weather_onehot"
      ],
      "execution_count": 20,
      "outputs": [
        {
          "output_type": "stream",
          "text": [
            "torch.Size([730, 4, 24])\n"
          ],
          "name": "stdout"
        },
        {
          "output_type": "execute_result",
          "data": {
            "text/plain": [
              "tensor([[[0., 0.,  ..., 0., 0.],\n",
              "         [0., 0.,  ..., 0., 0.],\n",
              "         [0., 0.,  ..., 0., 0.],\n",
              "         [0., 0.,  ..., 0., 0.]],\n",
              "\n",
              "        [[0., 0.,  ..., 0., 0.],\n",
              "         [0., 0.,  ..., 0., 0.],\n",
              "         [0., 0.,  ..., 0., 0.],\n",
              "         [0., 0.,  ..., 0., 0.]],\n",
              "\n",
              "        ...,\n",
              "\n",
              "        [[0., 0.,  ..., 0., 0.],\n",
              "         [0., 0.,  ..., 0., 0.],\n",
              "         [0., 0.,  ..., 0., 0.],\n",
              "         [0., 0.,  ..., 0., 0.]],\n",
              "\n",
              "        [[0., 0.,  ..., 0., 0.],\n",
              "         [0., 0.,  ..., 0., 0.],\n",
              "         [0., 0.,  ..., 0., 0.],\n",
              "         [0., 0.,  ..., 0., 0.]]])"
            ]
          },
          "metadata": {
            "tags": []
          },
          "execution_count": 20
        }
      ]
    },
    {
      "cell_type": "code",
      "metadata": {
        "id": "UgKwJ2NrlYGb",
        "colab_type": "code",
        "colab": {
          "base_uri": "https://localhost:8080/",
          "height": 391
        },
        "outputId": "b59a82bb-906c-41e4-ac05-cbed4933478c"
      },
      "source": [
        "daily_weather_onehot.scatter_(\n",
        "    1, daily_bikes[:,9,:].long().unsqueeze(1) - 1, 1.0)\n",
        "print(daily_weather_onehot.shape)\n",
        "daily_weather_onehot"
      ],
      "execution_count": 21,
      "outputs": [
        {
          "output_type": "stream",
          "text": [
            "torch.Size([730, 4, 24])\n"
          ],
          "name": "stdout"
        },
        {
          "output_type": "execute_result",
          "data": {
            "text/plain": [
              "tensor([[[1., 1.,  ..., 0., 0.],\n",
              "         [0., 0.,  ..., 1., 1.],\n",
              "         [0., 0.,  ..., 0., 0.],\n",
              "         [0., 0.,  ..., 0., 0.]],\n",
              "\n",
              "        [[0., 0.,  ..., 1., 1.],\n",
              "         [1., 1.,  ..., 0., 0.],\n",
              "         [0., 0.,  ..., 0., 0.],\n",
              "         [0., 0.,  ..., 0., 0.]],\n",
              "\n",
              "        ...,\n",
              "\n",
              "        [[0., 0.,  ..., 1., 1.],\n",
              "         [1., 1.,  ..., 0., 0.],\n",
              "         [0., 0.,  ..., 0., 0.],\n",
              "         [0., 0.,  ..., 0., 0.]],\n",
              "\n",
              "        [[1., 1.,  ..., 1., 1.],\n",
              "         [0., 0.,  ..., 0., 0.],\n",
              "         [0., 0.,  ..., 0., 0.],\n",
              "         [0., 0.,  ..., 0., 0.]]])"
            ]
          },
          "metadata": {
            "tags": []
          },
          "execution_count": 21
        }
      ]
    },
    {
      "cell_type": "code",
      "metadata": {
        "id": "kvbBlJrxlYGd",
        "colab_type": "code",
        "colab": {
          "base_uri": "https://localhost:8080/",
          "height": 476
        },
        "outputId": "93d27280-b2a2-492e-fc91-a86c22490a91"
      },
      "source": [
        "print(daily_bikes.shape)\n",
        "daily_bikes = torch.cat((daily_bikes, daily_weather_onehot), dim=1)\n",
        "print(daily_bikes.shape)\n",
        "daily_bikes"
      ],
      "execution_count": 22,
      "outputs": [
        {
          "output_type": "stream",
          "text": [
            "torch.Size([730, 17, 24])\n",
            "torch.Size([730, 21, 24])\n"
          ],
          "name": "stdout"
        },
        {
          "output_type": "execute_result",
          "data": {
            "text/plain": [
              "tensor([[[1.0000e+00, 2.0000e+00,  ..., 2.3000e+01, 2.4000e+01],\n",
              "         [1.0000e+00, 1.0000e+00,  ..., 1.0000e+00, 1.0000e+00],\n",
              "         ...,\n",
              "         [0.0000e+00, 0.0000e+00,  ..., 0.0000e+00, 0.0000e+00],\n",
              "         [0.0000e+00, 0.0000e+00,  ..., 0.0000e+00, 0.0000e+00]],\n",
              "\n",
              "        [[2.5000e+01, 2.6000e+01,  ..., 4.6000e+01, 4.7000e+01],\n",
              "         [2.0000e+00, 2.0000e+00,  ..., 2.0000e+00, 2.0000e+00],\n",
              "         ...,\n",
              "         [0.0000e+00, 0.0000e+00,  ..., 0.0000e+00, 0.0000e+00],\n",
              "         [0.0000e+00, 0.0000e+00,  ..., 0.0000e+00, 0.0000e+00]],\n",
              "\n",
              "        ...,\n",
              "\n",
              "        [[1.7332e+04, 1.7333e+04,  ..., 1.7354e+04, 1.7355e+04],\n",
              "         [3.0000e+01, 3.0000e+01,  ..., 3.0000e+01, 3.0000e+01],\n",
              "         ...,\n",
              "         [0.0000e+00, 0.0000e+00,  ..., 0.0000e+00, 0.0000e+00],\n",
              "         [0.0000e+00, 0.0000e+00,  ..., 0.0000e+00, 0.0000e+00]],\n",
              "\n",
              "        [[1.7356e+04, 1.7357e+04,  ..., 1.7378e+04, 1.7379e+04],\n",
              "         [3.1000e+01, 3.1000e+01,  ..., 3.1000e+01, 3.1000e+01],\n",
              "         ...,\n",
              "         [0.0000e+00, 0.0000e+00,  ..., 0.0000e+00, 0.0000e+00],\n",
              "         [0.0000e+00, 0.0000e+00,  ..., 0.0000e+00, 0.0000e+00]]])"
            ]
          },
          "metadata": {
            "tags": []
          },
          "execution_count": 22
        }
      ]
    },
    {
      "cell_type": "markdown",
      "metadata": {
        "id": "sEgCra-1xfst",
        "colab_type": "text"
      },
      "source": [
        "We mentioned earlier that this is not the only way to treat our “weather situation” variable. Indeed, its labels have an ordinal relationship, so we could pretend they are special values of a continuous variable. We could just transform the variable so that it runs\n",
        "from 0.0 to 1.0:"
      ]
    },
    {
      "cell_type": "code",
      "metadata": {
        "id": "ONZpDvszxRZW",
        "colab_type": "code",
        "colab": {
          "base_uri": "https://localhost:8080/",
          "height": 119
        },
        "outputId": "e40ea1e0-e447-4d63-caf5-a982c8552d1d"
      },
      "source": [
        "print(daily_bikes[:, 9, :] .shape)\n",
        "daily_bikes[:, 9, :] "
      ],
      "execution_count": 24,
      "outputs": [
        {
          "output_type": "stream",
          "text": [
            "torch.Size([730, 24])\n"
          ],
          "name": "stdout"
        },
        {
          "output_type": "execute_result",
          "data": {
            "text/plain": [
              "tensor([[1., 1.,  ..., 2., 2.],\n",
              "        [2., 2.,  ..., 1., 1.],\n",
              "        ...,\n",
              "        [2., 2.,  ..., 1., 1.],\n",
              "        [1., 1.,  ..., 1., 1.]])"
            ]
          },
          "metadata": {
            "tags": []
          },
          "execution_count": 24
        }
      ]
    },
    {
      "cell_type": "code",
      "metadata": {
        "id": "UhmhblKzlYGg",
        "colab_type": "code",
        "colab": {
          "base_uri": "https://localhost:8080/",
          "height": 119
        },
        "outputId": "db7d89da-fe1c-42d5-e26e-bc960066cfac"
      },
      "source": [
        "daily_bikes[:, 9, :] = (daily_bikes[:, 9, :] - 1.0) / 3.0\n",
        "print(daily_bikes[:, 9, :] .shape)\n",
        "daily_bikes[:, 9, :] "
      ],
      "execution_count": 25,
      "outputs": [
        {
          "output_type": "stream",
          "text": [
            "torch.Size([730, 24])\n"
          ],
          "name": "stdout"
        },
        {
          "output_type": "execute_result",
          "data": {
            "text/plain": [
              "tensor([[0.0000, 0.0000,  ..., 0.3333, 0.3333],\n",
              "        [0.3333, 0.3333,  ..., 0.0000, 0.0000],\n",
              "        ...,\n",
              "        [0.3333, 0.3333,  ..., 0.0000, 0.0000],\n",
              "        [0.0000, 0.0000,  ..., 0.0000, 0.0000]])"
            ]
          },
          "metadata": {
            "tags": []
          },
          "execution_count": 25
        }
      ]
    },
    {
      "cell_type": "markdown",
      "metadata": {
        "id": "eFEWI6bOxmqQ",
        "colab_type": "text"
      },
      "source": [
        "There are multiple possibilities for rescaling variables. We can either map their\n",
        "range to [0.0, 1.0]"
      ]
    },
    {
      "cell_type": "code",
      "metadata": {
        "id": "nVwhEcrIlYGi",
        "colab_type": "code",
        "colab": {}
      },
      "source": [
        "temp = daily_bikes[:, 10, :]\n",
        "temp_min = torch.min(temp)\n",
        "temp_max = torch.max(temp)\n",
        "daily_bikes[:, 10, :] = ((daily_bikes[:, 10, :] - temp_min)\n",
        "                         / (temp_max - temp_min))"
      ],
      "execution_count": 26,
      "outputs": []
    },
    {
      "cell_type": "code",
      "metadata": {
        "id": "_Grx0UWalYGn",
        "colab_type": "code",
        "colab": {}
      },
      "source": [
        "temp = daily_bikes[:, 10, :]\n",
        "daily_bikes[:, 10, :] = ((daily_bikes[:, 10, :] - torch.mean(temp))\n",
        "                         / torch.std(temp))"
      ],
      "execution_count": 27,
      "outputs": []
    },
    {
      "cell_type": "code",
      "metadata": {
        "id": "w5ns6T4ixpOI",
        "colab_type": "code",
        "colab": {}
      },
      "source": [
        ""
      ],
      "execution_count": null,
      "outputs": []
    }
  ]
}