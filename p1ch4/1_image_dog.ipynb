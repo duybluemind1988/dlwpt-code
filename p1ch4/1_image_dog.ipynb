{
  "nbformat": 4,
  "nbformat_minor": 0,
  "metadata": {
    "kernelspec": {
      "display_name": "Python 3",
      "language": "python",
      "name": "python3"
    },
    "language_info": {
      "codemirror_mode": {
        "name": "ipython",
        "version": 3
      },
      "file_extension": ".py",
      "mimetype": "text/x-python",
      "name": "python",
      "nbconvert_exporter": "python",
      "pygments_lexer": "ipython3",
      "version": "3.7.6"
    },
    "colab": {
      "name": "1_image_dog.ipynb",
      "provenance": []
    }
  },
  "cells": [
    {
      "cell_type": "code",
      "metadata": {
        "id": "L2FLQU_lAx_g",
        "colab_type": "code",
        "colab": {}
      },
      "source": [
        "import numpy as np\n",
        "import torch\n",
        "torch.set_printoptions(edgeitems=2, threshold=50)"
      ],
      "execution_count": 1,
      "outputs": []
    },
    {
      "cell_type": "code",
      "metadata": {
        "id": "N5cTVzWWBgKM",
        "colab_type": "code",
        "colab": {}
      },
      "source": [
        "!git clone https://github.com/duybluemind1988/dlwpt-code"
      ],
      "execution_count": 2,
      "outputs": []
    },
    {
      "cell_type": "code",
      "metadata": {
        "id": "BR8H7VrgB5iw",
        "colab_type": "code",
        "colab": {
          "base_uri": "https://localhost:8080/",
          "height": 35
        },
        "outputId": "8304bbac-46fb-4d1e-d757-36050b01846a"
      },
      "source": [
        "import os \n",
        "os.getcwd()"
      ],
      "execution_count": 3,
      "outputs": [
        {
          "output_type": "execute_result",
          "data": {
            "application/vnd.google.colaboratory.intrinsic+json": {
              "type": "string"
            },
            "text/plain": [
              "'/content'"
            ]
          },
          "metadata": {
            "tags": []
          },
          "execution_count": 3
        }
      ]
    },
    {
      "cell_type": "code",
      "metadata": {
        "id": "YhDhzM9cDIFu",
        "colab_type": "code",
        "colab": {}
      },
      "source": [
        "#!apt-get update"
      ],
      "execution_count": 4,
      "outputs": []
    },
    {
      "cell_type": "code",
      "metadata": {
        "id": "mQsuEiinCFhc",
        "colab_type": "code",
        "colab": {}
      },
      "source": [
        "import imageio"
      ],
      "execution_count": 5,
      "outputs": []
    },
    {
      "cell_type": "code",
      "metadata": {
        "id": "tO-4lkPNAx_k",
        "colab_type": "code",
        "colab": {
          "base_uri": "https://localhost:8080/",
          "height": 34
        },
        "outputId": "271d3fb3-59a5-41f3-ac7b-65f090ff5c3c"
      },
      "source": [
        "img_arr = imageio.imread('https://github.com/duybluemind1988/dlwpt-code/blob/master/data/p1ch4/image-dog/bobby.jpg?raw=true')\n",
        "img_arr.shape"
      ],
      "execution_count": 6,
      "outputs": [
        {
          "output_type": "execute_result",
          "data": {
            "text/plain": [
              "(720, 1280, 3)"
            ]
          },
          "metadata": {
            "tags": []
          },
          "execution_count": 6
        }
      ]
    },
    {
      "cell_type": "code",
      "metadata": {
        "id": "JU1daw5SAx_o",
        "colab_type": "code",
        "colab": {}
      },
      "source": [
        "img = torch.from_numpy(img_arr)\n",
        "out = img.permute(2, 0, 1)"
      ],
      "execution_count": 7,
      "outputs": []
    },
    {
      "cell_type": "code",
      "metadata": {
        "id": "9xOrLXVY11M8",
        "colab_type": "code",
        "colab": {
          "base_uri": "https://localhost:8080/",
          "height": 34
        },
        "outputId": "ef7f78b2-d53d-4ca7-a56d-bf9204c7b72c"
      },
      "source": [
        "img.shape"
      ],
      "execution_count": 8,
      "outputs": [
        {
          "output_type": "execute_result",
          "data": {
            "text/plain": [
              "torch.Size([720, 1280, 3])"
            ]
          },
          "metadata": {
            "tags": []
          },
          "execution_count": 8
        }
      ]
    },
    {
      "cell_type": "markdown",
      "metadata": {
        "id": "hfEs8dlF2Yy9",
        "colab_type": "text"
      },
      "source": [
        "The only thing to watch out for is the layout of the dimensions.\n",
        "PyTorch modules dealing with image data require tensors to be laid out as C × H × W :\n",
        "channels, height, and width, respectively."
      ]
    },
    {
      "cell_type": "code",
      "metadata": {
        "id": "jzYUKFJe13k2",
        "colab_type": "code",
        "colab": {
          "base_uri": "https://localhost:8080/",
          "height": 34
        },
        "outputId": "c71db87e-4027-4e81-89b2-a743e346a967"
      },
      "source": [
        "out.shape"
      ],
      "execution_count": 9,
      "outputs": [
        {
          "output_type": "execute_result",
          "data": {
            "text/plain": [
              "torch.Size([3, 720, 1280])"
            ]
          },
          "metadata": {
            "tags": []
          },
          "execution_count": 9
        }
      ]
    },
    {
      "cell_type": "code",
      "metadata": {
        "id": "Wi3_xnAVAx_r",
        "colab_type": "code",
        "colab": {}
      },
      "source": [
        "batch_size = 3\n",
        "batch = torch.zeros(batch_size, 3, 256, 256, dtype=torch.uint8)"
      ],
      "execution_count": 31,
      "outputs": []
    },
    {
      "cell_type": "code",
      "metadata": {
        "scrolled": true,
        "id": "_ukR4iEmAx_u",
        "colab_type": "code",
        "colab": {
          "base_uri": "https://localhost:8080/",
          "height": 34
        },
        "outputId": "3ff74443-7fe9-4c05-d8f6-f850bd9a6b3b"
      },
      "source": [
        "import os\n",
        "\n",
        "data_dir = '/content/dlwpt-code/data/p1ch4/image-cats/'\n",
        "filenames = [name for name in os.listdir(data_dir)\n",
        "             if os.path.splitext(name)[-1] == '.png']\n",
        "filenames"
      ],
      "execution_count": 32,
      "outputs": [
        {
          "output_type": "execute_result",
          "data": {
            "text/plain": [
              "['cat3.png', 'cat2.png', 'cat1.png']"
            ]
          },
          "metadata": {
            "tags": []
          },
          "execution_count": 32
        }
      ]
    },
    {
      "cell_type": "code",
      "metadata": {
        "id": "jV8sjsGZ33Kb",
        "colab_type": "code",
        "colab": {
          "base_uri": "https://localhost:8080/",
          "height": 1000
        },
        "outputId": "b1a4e59a-a03d-497e-ec0c-8cf61eb877fc"
      },
      "source": [
        "for i, filename in enumerate(filenames):\n",
        "    img_arr = imageio.imread(os.path.join(data_dir, filename))\n",
        "    img_t = torch.from_numpy(img_arr)\n",
        "    print(img_t.shape)\n",
        "    img_t = img_t.permute(2, 0, 1)\n",
        "    print(img_t.shape)\n",
        "    img_t = img_t[:3] # <1>\n",
        "    print(img_t.shape)\n",
        "    batch[i] = img_t\n",
        "    print(batch[i])"
      ],
      "execution_count": 33,
      "outputs": [
        {
          "output_type": "stream",
          "text": [
            "torch.Size([256, 256, 3])\n",
            "torch.Size([3, 256, 256])\n",
            "torch.Size([3, 256, 256])\n",
            "tensor([[[238, 238,  ..., 215, 215],\n",
            "         [238, 238,  ..., 215, 215],\n",
            "         ...,\n",
            "         [214, 213,  ..., 190, 192],\n",
            "         [214, 213,  ..., 190, 192]],\n",
            "\n",
            "        [[195, 195,  ..., 175, 175],\n",
            "         [195, 195,  ..., 175, 175],\n",
            "         ...,\n",
            "         [128, 127,  ..., 103, 105],\n",
            "         [128, 127,  ..., 103, 105]],\n",
            "\n",
            "        [[137, 137,  ..., 126, 126],\n",
            "         [137, 137,  ..., 126, 126],\n",
            "         ...,\n",
            "         [ 79,  78,  ...,  69,  71],\n",
            "         [ 79,  78,  ...,  69,  72]]], dtype=torch.uint8)\n",
            "torch.Size([256, 256, 3])\n",
            "torch.Size([3, 256, 256])\n",
            "torch.Size([3, 256, 256])\n",
            "tensor([[[202, 193,  ...,  13,  12],\n",
            "         [199, 192,  ...,  14,  14],\n",
            "         ...,\n",
            "         [ 75,  68,  ...,  36,  37],\n",
            "         [ 85, 103,  ...,  37,  38]],\n",
            "\n",
            "        [[151, 139,  ...,   9,   8],\n",
            "         [151, 140,  ...,  11,  11],\n",
            "         ...,\n",
            "         [ 33,  26,  ...,  26,  27],\n",
            "         [ 40,  58,  ...,  27,  28]],\n",
            "\n",
            "        [[ 68,  53,  ...,   6,   5],\n",
            "         [ 67,  54,  ...,   6,   6],\n",
            "         ...,\n",
            "         [ 11,   2,  ...,  17,  18],\n",
            "         [ 19,  37,  ...,  18,  19]]], dtype=torch.uint8)\n",
            "torch.Size([256, 256, 3])\n",
            "torch.Size([3, 256, 256])\n",
            "torch.Size([3, 256, 256])\n",
            "tensor([[[156, 152,  ..., 149, 158],\n",
            "         [174, 134,  ..., 136, 138],\n",
            "         ...,\n",
            "         [129, 130,  ..., 121, 114],\n",
            "         [129, 123,  ..., 121, 120]],\n",
            "\n",
            "        [[139, 135,  ..., 135, 147],\n",
            "         [160, 119,  ..., 122, 124],\n",
            "         ...,\n",
            "         [111, 111,  ..., 112, 105],\n",
            "         [111, 104,  ..., 110, 111]],\n",
            "\n",
            "        [[129, 123,  ..., 132, 145],\n",
            "         [155, 110,  ..., 119, 121],\n",
            "         ...,\n",
            "         [108, 108,  ..., 117, 110],\n",
            "         [107,  98,  ..., 115, 116]]], dtype=torch.uint8)\n"
          ],
          "name": "stdout"
        }
      ]
    },
    {
      "cell_type": "code",
      "metadata": {
        "id": "aysLZmJ6Ax_w",
        "colab_type": "code",
        "colab": {
          "base_uri": "https://localhost:8080/",
          "height": 952
        },
        "outputId": "371ac4e2-219a-4a17-db14-f2f65735f019"
      },
      "source": [
        "batch = batch.float()\n",
        "batch /= 255.0\n",
        "batch"
      ],
      "execution_count": 34,
      "outputs": [
        {
          "output_type": "execute_result",
          "data": {
            "text/plain": [
              "tensor([[[[0.9333, 0.9333,  ..., 0.8431, 0.8431],\n",
              "          [0.9333, 0.9333,  ..., 0.8431, 0.8431],\n",
              "          ...,\n",
              "          [0.8392, 0.8353,  ..., 0.7451, 0.7529],\n",
              "          [0.8392, 0.8353,  ..., 0.7451, 0.7529]],\n",
              "\n",
              "         [[0.7647, 0.7647,  ..., 0.6863, 0.6863],\n",
              "          [0.7647, 0.7647,  ..., 0.6863, 0.6863],\n",
              "          ...,\n",
              "          [0.5020, 0.4980,  ..., 0.4039, 0.4118],\n",
              "          [0.5020, 0.4980,  ..., 0.4039, 0.4118]],\n",
              "\n",
              "         [[0.5373, 0.5373,  ..., 0.4941, 0.4941],\n",
              "          [0.5373, 0.5373,  ..., 0.4941, 0.4941],\n",
              "          ...,\n",
              "          [0.3098, 0.3059,  ..., 0.2706, 0.2784],\n",
              "          [0.3098, 0.3059,  ..., 0.2706, 0.2824]]],\n",
              "\n",
              "\n",
              "        [[[0.7922, 0.7569,  ..., 0.0510, 0.0471],\n",
              "          [0.7804, 0.7529,  ..., 0.0549, 0.0549],\n",
              "          ...,\n",
              "          [0.2941, 0.2667,  ..., 0.1412, 0.1451],\n",
              "          [0.3333, 0.4039,  ..., 0.1451, 0.1490]],\n",
              "\n",
              "         [[0.5922, 0.5451,  ..., 0.0353, 0.0314],\n",
              "          [0.5922, 0.5490,  ..., 0.0431, 0.0431],\n",
              "          ...,\n",
              "          [0.1294, 0.1020,  ..., 0.1020, 0.1059],\n",
              "          [0.1569, 0.2275,  ..., 0.1059, 0.1098]],\n",
              "\n",
              "         [[0.2667, 0.2078,  ..., 0.0235, 0.0196],\n",
              "          [0.2627, 0.2118,  ..., 0.0235, 0.0235],\n",
              "          ...,\n",
              "          [0.0431, 0.0078,  ..., 0.0667, 0.0706],\n",
              "          [0.0745, 0.1451,  ..., 0.0706, 0.0745]]],\n",
              "\n",
              "\n",
              "        [[[0.6118, 0.5961,  ..., 0.5843, 0.6196],\n",
              "          [0.6824, 0.5255,  ..., 0.5333, 0.5412],\n",
              "          ...,\n",
              "          [0.5059, 0.5098,  ..., 0.4745, 0.4471],\n",
              "          [0.5059, 0.4824,  ..., 0.4745, 0.4706]],\n",
              "\n",
              "         [[0.5451, 0.5294,  ..., 0.5294, 0.5765],\n",
              "          [0.6275, 0.4667,  ..., 0.4784, 0.4863],\n",
              "          ...,\n",
              "          [0.4353, 0.4353,  ..., 0.4392, 0.4118],\n",
              "          [0.4353, 0.4078,  ..., 0.4314, 0.4353]],\n",
              "\n",
              "         [[0.5059, 0.4824,  ..., 0.5176, 0.5686],\n",
              "          [0.6078, 0.4314,  ..., 0.4667, 0.4745],\n",
              "          ...,\n",
              "          [0.4235, 0.4235,  ..., 0.4588, 0.4314],\n",
              "          [0.4196, 0.3843,  ..., 0.4510, 0.4549]]]])"
            ]
          },
          "metadata": {
            "tags": []
          },
          "execution_count": 34
        }
      ]
    },
    {
      "cell_type": "code",
      "metadata": {
        "id": "F0hoKaiy4Tc-",
        "colab_type": "code",
        "colab": {
          "base_uri": "https://localhost:8080/",
          "height": 34
        },
        "outputId": "d23b0c6f-f0b0-47e0-9033-8c40885e1685"
      },
      "source": [
        "batch.shape"
      ],
      "execution_count": 35,
      "outputs": [
        {
          "output_type": "execute_result",
          "data": {
            "text/plain": [
              "torch.Size([3, 3, 256, 256])"
            ]
          },
          "metadata": {
            "tags": []
          },
          "execution_count": 35
        }
      ]
    },
    {
      "cell_type": "code",
      "metadata": {
        "id": "LufeCT1PAx_z",
        "colab_type": "code",
        "colab": {
          "base_uri": "https://localhost:8080/",
          "height": 34
        },
        "outputId": "18649973-9ca3-4aa1-e480-c5fe58232c3a"
      },
      "source": [
        "n_channels = batch.shape[1]\n",
        "n_channels"
      ],
      "execution_count": 36,
      "outputs": [
        {
          "output_type": "execute_result",
          "data": {
            "text/plain": [
              "3"
            ]
          },
          "metadata": {
            "tags": []
          },
          "execution_count": 36
        }
      ]
    },
    {
      "cell_type": "code",
      "metadata": {
        "id": "VukRt0xu6MI4",
        "colab_type": "code",
        "colab": {
          "base_uri": "https://localhost:8080/",
          "height": 34
        },
        "outputId": "a4d26268-a3c8-4199-e7a4-dd6ffd3af0a2"
      },
      "source": [
        "batch[:, 1].shape"
      ],
      "execution_count": 37,
      "outputs": [
        {
          "output_type": "execute_result",
          "data": {
            "text/plain": [
              "torch.Size([3, 256, 256])"
            ]
          },
          "metadata": {
            "tags": []
          },
          "execution_count": 37
        }
      ]
    },
    {
      "cell_type": "code",
      "metadata": {
        "id": "giUXNHpi6QDr",
        "colab_type": "code",
        "colab": {
          "base_uri": "https://localhost:8080/",
          "height": 34
        },
        "outputId": "2097a7bd-173e-416f-e7be-cd771656479d"
      },
      "source": [
        "batch[:, 2].shape"
      ],
      "execution_count": 38,
      "outputs": [
        {
          "output_type": "execute_result",
          "data": {
            "text/plain": [
              "torch.Size([3, 256, 256])"
            ]
          },
          "metadata": {
            "tags": []
          },
          "execution_count": 38
        }
      ]
    },
    {
      "cell_type": "code",
      "metadata": {
        "id": "MyWWFQTo8qEV",
        "colab_type": "code",
        "colab": {
          "base_uri": "https://localhost:8080/",
          "height": 306
        },
        "outputId": "cf0b56a8-881f-4830-b58b-9128350c5269"
      },
      "source": [
        "batch[:, 1]"
      ],
      "execution_count": 39,
      "outputs": [
        {
          "output_type": "execute_result",
          "data": {
            "text/plain": [
              "tensor([[[0.7647, 0.7647,  ..., 0.6863, 0.6863],\n",
              "         [0.7647, 0.7647,  ..., 0.6863, 0.6863],\n",
              "         ...,\n",
              "         [0.5020, 0.4980,  ..., 0.4039, 0.4118],\n",
              "         [0.5020, 0.4980,  ..., 0.4039, 0.4118]],\n",
              "\n",
              "        [[0.5922, 0.5451,  ..., 0.0353, 0.0314],\n",
              "         [0.5922, 0.5490,  ..., 0.0431, 0.0431],\n",
              "         ...,\n",
              "         [0.1294, 0.1020,  ..., 0.1020, 0.1059],\n",
              "         [0.1569, 0.2275,  ..., 0.1059, 0.1098]],\n",
              "\n",
              "        [[0.5451, 0.5294,  ..., 0.5294, 0.5765],\n",
              "         [0.6275, 0.4667,  ..., 0.4784, 0.4863],\n",
              "         ...,\n",
              "         [0.4353, 0.4353,  ..., 0.4392, 0.4118],\n",
              "         [0.4353, 0.4078,  ..., 0.4314, 0.4353]]])"
            ]
          },
          "metadata": {
            "tags": []
          },
          "execution_count": 39
        }
      ]
    },
    {
      "cell_type": "code",
      "metadata": {
        "id": "Q70LysKt3wa2",
        "colab_type": "code",
        "colab": {}
      },
      "source": [
        "for c in range(n_channels):\n",
        "    mean = torch.mean(batch[:, c])\n",
        "    std = torch.std(batch[:, c])\n",
        "    batch[:, c] = (batch[:, c] - mean) / std"
      ],
      "execution_count": 40,
      "outputs": []
    },
    {
      "cell_type": "code",
      "metadata": {
        "id": "g0gjQ0858bC3",
        "colab_type": "code",
        "colab": {
          "base_uri": "https://localhost:8080/",
          "height": 34
        },
        "outputId": "8f296b61-797a-4d35-b999-74f80d1e574d"
      },
      "source": [
        "mean"
      ],
      "execution_count": 41,
      "outputs": [
        {
          "output_type": "execute_result",
          "data": {
            "text/plain": [
              "tensor(0.3554)"
            ]
          },
          "metadata": {
            "tags": []
          },
          "execution_count": 41
        }
      ]
    },
    {
      "cell_type": "code",
      "metadata": {
        "id": "UCzFHYhn8cYB",
        "colab_type": "code",
        "colab": {
          "base_uri": "https://localhost:8080/",
          "height": 34
        },
        "outputId": "12186fd9-2cf5-4b08-c21b-d2dd3d4ec788"
      },
      "source": [
        "std"
      ],
      "execution_count": 42,
      "outputs": [
        {
          "output_type": "execute_result",
          "data": {
            "text/plain": [
              "tensor(0.1931)"
            ]
          },
          "metadata": {
            "tags": []
          },
          "execution_count": 42
        }
      ]
    },
    {
      "cell_type": "code",
      "metadata": {
        "id": "CRg0WKiF8bOT",
        "colab_type": "code",
        "colab": {
          "base_uri": "https://localhost:8080/",
          "height": 306
        },
        "outputId": "349e17e3-80c3-4a0e-f373-9c356de954a0"
      },
      "source": [
        "batch[:,1]"
      ],
      "execution_count": 43,
      "outputs": [
        {
          "output_type": "execute_result",
          "data": {
            "text/plain": [
              "tensor([[[ 1.5253,  1.5253,  ...,  1.1460,  1.1460],\n",
              "         [ 1.5253,  1.5253,  ...,  1.1460,  1.1460],\n",
              "         ...,\n",
              "         [ 0.2546,  0.2356,  ..., -0.2196, -0.1816],\n",
              "         [ 0.2546,  0.2356,  ..., -0.2196, -0.1816]],\n",
              "\n",
              "        [[ 0.6908,  0.4632,  ..., -2.0024, -2.0214],\n",
              "         [ 0.6908,  0.4822,  ..., -1.9645, -1.9645],\n",
              "         ...,\n",
              "         [-1.5472, -1.6800,  ..., -1.6800, -1.6610],\n",
              "         [-1.4144, -1.0731,  ..., -1.6610, -1.6420]],\n",
              "\n",
              "        [[ 0.4632,  0.3874,  ...,  0.3874,  0.6149],\n",
              "         [ 0.8615,  0.0839,  ...,  0.1408,  0.1787],\n",
              "         ...,\n",
              "         [-0.0678, -0.0678,  ..., -0.0489, -0.1816],\n",
              "         [-0.0678, -0.2006,  ..., -0.0868, -0.0678]]])"
            ]
          },
          "metadata": {
            "tags": []
          },
          "execution_count": 43
        }
      ]
    },
    {
      "cell_type": "code",
      "metadata": {
        "id": "V9jyTqDl8eE-",
        "colab_type": "code",
        "colab": {}
      },
      "source": [
        ""
      ],
      "execution_count": null,
      "outputs": []
    }
  ]
}